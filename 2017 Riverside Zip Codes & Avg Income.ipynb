{
 "cells": [
  {
   "cell_type": "code",
   "execution_count": 2,
   "metadata": {},
   "outputs": [],
   "source": [
    "# going to import year 2017 csv with zip code & avg income to plot \n",
    "# Import dependencies\n",
    "import pandas as pd\n",
    "import matplotlib.pyplot as plt\n",
    "import numpy as np"
   ]
  },
  {
   "cell_type": "code",
   "execution_count": 3,
   "metadata": {},
   "outputs": [
    {
     "data": {
      "text/html": [
       "<div>\n",
       "<style scoped>\n",
       "    .dataframe tbody tr th:only-of-type {\n",
       "        vertical-align: middle;\n",
       "    }\n",
       "\n",
       "    .dataframe tbody tr th {\n",
       "        vertical-align: top;\n",
       "    }\n",
       "\n",
       "    .dataframe thead th {\n",
       "        text-align: right;\n",
       "    }\n",
       "</style>\n",
       "<table border=\"1\" class=\"dataframe\">\n",
       "  <thead>\n",
       "    <tr style=\"text-align: right;\">\n",
       "      <th></th>\n",
       "      <th>Unnamed: 0</th>\n",
       "      <th>ID</th>\n",
       "      <th>Year</th>\n",
       "      <th>Zip Code</th>\n",
       "      <th>City</th>\n",
       "      <th>Returns</th>\n",
       "      <th>CA AGI</th>\n",
       "      <th>Avg Income</th>\n",
       "    </tr>\n",
       "  </thead>\n",
       "  <tbody>\n",
       "    <tr>\n",
       "      <th>0</th>\n",
       "      <td>0</td>\n",
       "      <td>177</td>\n",
       "      <td>2017</td>\n",
       "      <td>93276</td>\n",
       "      <td>Tupman</td>\n",
       "      <td>54</td>\n",
       "      <td>1,853,226</td>\n",
       "      <td>34319.00</td>\n",
       "    </tr>\n",
       "    <tr>\n",
       "      <th>1</th>\n",
       "      <td>1768</td>\n",
       "      <td>137</td>\n",
       "      <td>2017</td>\n",
       "      <td>91407</td>\n",
       "      <td>Van Nuys</td>\n",
       "      <td>34</td>\n",
       "      <td>1,290,491</td>\n",
       "      <td>37955.62</td>\n",
       "    </tr>\n",
       "    <tr>\n",
       "      <th>2</th>\n",
       "      <td>1770</td>\n",
       "      <td>1315</td>\n",
       "      <td>2017</td>\n",
       "      <td>90045</td>\n",
       "      <td>Los Angeles</td>\n",
       "      <td>18,766</td>\n",
       "      <td>2,074,763,206</td>\n",
       "      <td>110559.69</td>\n",
       "    </tr>\n",
       "    <tr>\n",
       "      <th>3</th>\n",
       "      <td>1771</td>\n",
       "      <td>342</td>\n",
       "      <td>2017</td>\n",
       "      <td>91403</td>\n",
       "      <td>Sherman Oaks</td>\n",
       "      <td>14,265</td>\n",
       "      <td>1,989,124,375</td>\n",
       "      <td>139440.90</td>\n",
       "    </tr>\n",
       "    <tr>\n",
       "      <th>4</th>\n",
       "      <td>1772</td>\n",
       "      <td>1496</td>\n",
       "      <td>2017</td>\n",
       "      <td>95646</td>\n",
       "      <td>Kirkwood</td>\n",
       "      <td>52</td>\n",
       "      <td>2,911,176</td>\n",
       "      <td>55984.15</td>\n",
       "    </tr>\n",
       "  </tbody>\n",
       "</table>\n",
       "</div>"
      ],
      "text/plain": [
       "   Unnamed: 0    ID  Year Zip Code          City Returns         CA AGI  \\\n",
       "0           0   177  2017    93276        Tupman      54      1,853,226   \n",
       "1        1768   137  2017    91407      Van Nuys      34      1,290,491   \n",
       "2        1770  1315  2017    90045   Los Angeles  18,766  2,074,763,206   \n",
       "3        1771   342  2017    91403  Sherman Oaks  14,265  1,989,124,375   \n",
       "4        1772  1496  2017    95646      Kirkwood      52      2,911,176   \n",
       "\n",
       "   Avg Income  \n",
       "0    34319.00  \n",
       "1    37955.62  \n",
       "2   110559.69  \n",
       "3   139440.90  \n",
       "4    55984.15  "
      ]
     },
     "execution_count": 3,
     "metadata": {},
     "output_type": "execute_result"
    }
   ],
   "source": [
    "# import csv & read\n",
    "file = 'SoCal Zip Code Income 2017.csv'\n",
    "\n",
    "# read csv\n",
    "income_zipcode_2017 = pd.read_csv('SoCal Zip Code Income 2017.csv') \n",
    "income_zipcode_2017.head()"
   ]
  },
  {
   "cell_type": "code",
   "execution_count": 4,
   "metadata": {},
   "outputs": [
    {
     "data": {
      "text/plain": [
       "Index(['Unnamed: 0', 'ID', 'Year', 'Zip Code', 'City', 'Returns', 'CA AGI',\n",
       "       'Avg Income'],\n",
       "      dtype='object')"
      ]
     },
     "execution_count": 4,
     "metadata": {},
     "output_type": "execute_result"
    }
   ],
   "source": [
    "# print column names for reference '92501', '92503', '92504', '92505', '92506', '92507', '92508'\n",
    "income_zipcode_2017.columns"
   ]
  },
  {
   "cell_type": "code",
   "execution_count": 5,
   "metadata": {},
   "outputs": [
    {
     "data": {
      "text/plain": [
       "Unnamed: 0      int64\n",
       "ID              int64\n",
       "Year            int64\n",
       "Zip Code       object\n",
       "City           object\n",
       "Returns        object\n",
       "CA AGI         object\n",
       "Avg Income    float64\n",
       "dtype: object"
      ]
     },
     "execution_count": 5,
     "metadata": {},
     "output_type": "execute_result"
    }
   ],
   "source": [
    "# show the different column object types\n",
    "income_zipcode_2017.dtypes"
   ]
  },
  {
   "cell_type": "code",
   "execution_count": 6,
   "metadata": {},
   "outputs": [
    {
     "data": {
      "text/html": [
       "<div>\n",
       "<style scoped>\n",
       "    .dataframe tbody tr th:only-of-type {\n",
       "        vertical-align: middle;\n",
       "    }\n",
       "\n",
       "    .dataframe tbody tr th {\n",
       "        vertical-align: top;\n",
       "    }\n",
       "\n",
       "    .dataframe thead th {\n",
       "        text-align: right;\n",
       "    }\n",
       "</style>\n",
       "<table border=\"1\" class=\"dataframe\">\n",
       "  <thead>\n",
       "    <tr style=\"text-align: right;\">\n",
       "      <th></th>\n",
       "      <th>Unnamed: 0</th>\n",
       "      <th>ID</th>\n",
       "      <th>Year</th>\n",
       "      <th>Zip Code</th>\n",
       "      <th>City</th>\n",
       "      <th>Returns</th>\n",
       "      <th>CA AGI</th>\n",
       "      <th>Avg Income</th>\n",
       "    </tr>\n",
       "  </thead>\n",
       "  <tbody>\n",
       "    <tr>\n",
       "      <th>152</th>\n",
       "      <td>1711</td>\n",
       "      <td>753</td>\n",
       "      <td>2017</td>\n",
       "      <td>92501</td>\n",
       "      <td>Riverside</td>\n",
       "      <td>8,874</td>\n",
       "      <td>400,450,078</td>\n",
       "      <td>45126.22</td>\n",
       "    </tr>\n",
       "    <tr>\n",
       "      <th>302</th>\n",
       "      <td>1904</td>\n",
       "      <td>756</td>\n",
       "      <td>2017</td>\n",
       "      <td>92504</td>\n",
       "      <td>Riverside</td>\n",
       "      <td>23,553</td>\n",
       "      <td>1,208,818,841</td>\n",
       "      <td>51323.35</td>\n",
       "    </tr>\n",
       "    <tr>\n",
       "      <th>417</th>\n",
       "      <td>1413</td>\n",
       "      <td>755</td>\n",
       "      <td>2017</td>\n",
       "      <td>92503</td>\n",
       "      <td>Riverside</td>\n",
       "      <td>37,973</td>\n",
       "      <td>1,974,408,813</td>\n",
       "      <td>51995.07</td>\n",
       "    </tr>\n",
       "    <tr>\n",
       "      <th>536</th>\n",
       "      <td>1596</td>\n",
       "      <td>760</td>\n",
       "      <td>2017</td>\n",
       "      <td>92508</td>\n",
       "      <td>Riverside</td>\n",
       "      <td>15,061</td>\n",
       "      <td>1,138,990,019</td>\n",
       "      <td>75625.13</td>\n",
       "    </tr>\n",
       "    <tr>\n",
       "      <th>1428</th>\n",
       "      <td>587</td>\n",
       "      <td>757</td>\n",
       "      <td>2017</td>\n",
       "      <td>92505</td>\n",
       "      <td>Riverside</td>\n",
       "      <td>21,308</td>\n",
       "      <td>956,372,407</td>\n",
       "      <td>44883.26</td>\n",
       "    </tr>\n",
       "  </tbody>\n",
       "</table>\n",
       "</div>"
      ],
      "text/plain": [
       "      Unnamed: 0   ID  Year Zip Code       City Returns         CA AGI  \\\n",
       "152         1711  753  2017    92501  Riverside   8,874    400,450,078   \n",
       "302         1904  756  2017    92504  Riverside  23,553  1,208,818,841   \n",
       "417         1413  755  2017    92503  Riverside  37,973  1,974,408,813   \n",
       "536         1596  760  2017    92508  Riverside  15,061  1,138,990,019   \n",
       "1428         587  757  2017    92505  Riverside  21,308    956,372,407   \n",
       "\n",
       "      Avg Income  \n",
       "152     45126.22  \n",
       "302     51323.35  \n",
       "417     51995.07  \n",
       "536     75625.13  \n",
       "1428    44883.26  "
      ]
     },
     "execution_count": 6,
     "metadata": {},
     "output_type": "execute_result"
    }
   ],
   "source": [
    "subset_zip_inc = income_zipcode_2017[income_zipcode_2017['Zip Code'].isin(['92501', '92503', '92504', '92505', '92506', '92507', '92508']) ]\n",
    "subset_zip_inc.head()\n"
   ]
  },
  {
   "cell_type": "code",
   "execution_count": 7,
   "metadata": {},
   "outputs": [
    {
     "name": "stderr",
     "output_type": "stream",
     "text": [
      "C:\\Users\\quiro\\Anaconda3\\lib\\site-packages\\pandas\\core\\frame.py:3940: SettingWithCopyWarning: \n",
      "A value is trying to be set on a copy of a slice from a DataFrame\n",
      "\n",
      "See the caveats in the documentation: http://pandas.pydata.org/pandas-docs/stable/indexing.html#indexing-view-versus-copy\n",
      "  errors=errors)\n"
     ]
    },
    {
     "data": {
      "text/html": [
       "<div>\n",
       "<style scoped>\n",
       "    .dataframe tbody tr th:only-of-type {\n",
       "        vertical-align: middle;\n",
       "    }\n",
       "\n",
       "    .dataframe tbody tr th {\n",
       "        vertical-align: top;\n",
       "    }\n",
       "\n",
       "    .dataframe thead th {\n",
       "        text-align: right;\n",
       "    }\n",
       "</style>\n",
       "<table border=\"1\" class=\"dataframe\">\n",
       "  <thead>\n",
       "    <tr style=\"text-align: right;\">\n",
       "      <th></th>\n",
       "      <th>ID</th>\n",
       "      <th>Year</th>\n",
       "      <th>Zip Code</th>\n",
       "      <th>City</th>\n",
       "      <th>Returns</th>\n",
       "      <th>CA AGI</th>\n",
       "      <th>Avg Income</th>\n",
       "    </tr>\n",
       "  </thead>\n",
       "  <tbody>\n",
       "    <tr>\n",
       "      <th>152</th>\n",
       "      <td>753</td>\n",
       "      <td>2017</td>\n",
       "      <td>92501</td>\n",
       "      <td>Riverside</td>\n",
       "      <td>8,874</td>\n",
       "      <td>400,450,078</td>\n",
       "      <td>45126.22</td>\n",
       "    </tr>\n",
       "    <tr>\n",
       "      <th>302</th>\n",
       "      <td>756</td>\n",
       "      <td>2017</td>\n",
       "      <td>92504</td>\n",
       "      <td>Riverside</td>\n",
       "      <td>23,553</td>\n",
       "      <td>1,208,818,841</td>\n",
       "      <td>51323.35</td>\n",
       "    </tr>\n",
       "    <tr>\n",
       "      <th>417</th>\n",
       "      <td>755</td>\n",
       "      <td>2017</td>\n",
       "      <td>92503</td>\n",
       "      <td>Riverside</td>\n",
       "      <td>37,973</td>\n",
       "      <td>1,974,408,813</td>\n",
       "      <td>51995.07</td>\n",
       "    </tr>\n",
       "    <tr>\n",
       "      <th>536</th>\n",
       "      <td>760</td>\n",
       "      <td>2017</td>\n",
       "      <td>92508</td>\n",
       "      <td>Riverside</td>\n",
       "      <td>15,061</td>\n",
       "      <td>1,138,990,019</td>\n",
       "      <td>75625.13</td>\n",
       "    </tr>\n",
       "    <tr>\n",
       "      <th>1428</th>\n",
       "      <td>757</td>\n",
       "      <td>2017</td>\n",
       "      <td>92505</td>\n",
       "      <td>Riverside</td>\n",
       "      <td>21,308</td>\n",
       "      <td>956,372,407</td>\n",
       "      <td>44883.26</td>\n",
       "    </tr>\n",
       "  </tbody>\n",
       "</table>\n",
       "</div>"
      ],
      "text/plain": [
       "       ID  Year Zip Code       City Returns         CA AGI  Avg Income\n",
       "152   753  2017    92501  Riverside   8,874    400,450,078    45126.22\n",
       "302   756  2017    92504  Riverside  23,553  1,208,818,841    51323.35\n",
       "417   755  2017    92503  Riverside  37,973  1,974,408,813    51995.07\n",
       "536   760  2017    92508  Riverside  15,061  1,138,990,019    75625.13\n",
       "1428  757  2017    92505  Riverside  21,308    956,372,407    44883.26"
      ]
     },
     "execution_count": 7,
     "metadata": {},
     "output_type": "execute_result"
    }
   ],
   "source": [
    "subset_zip_inc.drop = subset_zip_inc.drop('Unnamed: 0', axis = 1, inplace=True)\n",
    "subset_zip_inc.head()"
   ]
  },
  {
   "cell_type": "code",
   "execution_count": 8,
   "metadata": {},
   "outputs": [
    {
     "name": "stdout",
     "output_type": "stream",
     "text": [
      "       ID  Year Zip Code       City Returns         CA AGI  Avg Income\n",
      "152   753  2017    92501  Riverside   8,874    400,450,078    45126.22\n",
      "302   756  2017    92504  Riverside  23,553  1,208,818,841    51323.35\n",
      "417   755  2017    92503  Riverside  37,973  1,974,408,813    51995.07\n",
      "536   760  2017    92508  Riverside  15,061  1,138,990,019    75625.13\n",
      "1428  757  2017    92505  Riverside  21,308    956,372,407    44883.26\n",
      "2049  759  2017    92507  Riverside  22,137    989,166,809    44683.87\n",
      "2220  758  2017    92506  Riverside  20,594  1,897,618,226    92144.23\n"
     ]
    }
   ],
   "source": [
    "print(subset_zip_inc)"
   ]
  },
  {
   "cell_type": "code",
   "execution_count": 9,
   "metadata": {},
   "outputs": [],
   "source": [
    "# export 2017 mean income for Riverside zips to csv files\n",
    "subset_zip_inc.to_csv(\"Riverside Zip Codes Income 2017.csv\")"
   ]
  },
  {
   "cell_type": "code",
   "execution_count": 10,
   "metadata": {},
   "outputs": [],
   "source": [
    "# Load in csv\n",
    "riverside_zips_inc = pd.read_csv(\"Riverside Zip Codes Income 2017.csv\")"
   ]
  },
  {
   "cell_type": "code",
   "execution_count": 11,
   "metadata": {},
   "outputs": [],
   "source": [
    "# Set x axis and tick locations\n",
    "x_axis = np.arange(len(riverside_zips_inc))\n",
    "tick_locations = [value for value in x_axis]"
   ]
  },
  {
   "cell_type": "code",
   "execution_count": 13,
   "metadata": {},
   "outputs": [
    {
     "data": {
      "image/png": "[encoded data removed]",
      "text/plain": [
       "<Figure size 576x360 with 1 Axes>"
      ]
     },
     "metadata": {
      "needs_background": "light"
     },
     "output_type": "display_data"
    }
   ],
   "source": [
    "# Create a list indicating where to write x labels and set figure size to adjust for space\n",
    "plt.figure(figsize=(8,5))\n",
    "plt.bar(x_axis, riverside_zips_inc[\"Avg Income\"], color='r', alpha=1.0, align=\"center\")\n",
    "plt.xticks(tick_locations, riverside_zips_inc[\"Zip Code\"], rotation=\"vertical\")\n",
    "\n",
    "# Set x and y limits\n",
    "#plt.xlim(0, len(x_axis))\n",
    "#plt.ylim(0, max(riverside_zips_inc[\"Avg Income\"])+20000)\n",
    "\n",
    "# Set a Title and labels\n",
    "plt.title(\"Riverside Average Income per Zip Code\")\n",
    "plt.xlabel(\"Zip Code\")\n",
    "plt.ylabel(\"Average Income\")\n",
    "\n",
    "# Save our graph and show the grap\n",
    "plt.tight_layout()\n",
    "plt.savefig(\"Riverside_avg_zip_inc.png\")\n",
    "plt.show()"
   ]
  },
  {
   "cell_type": "code",
   "execution_count": null,
   "metadata": {},
   "outputs": [],
   "source": []
  }
 ],
 "metadata": {
  "kernelspec": {
   "display_name": "Python 3",
   "language": "python",
   "name": "python3"
  },
  "language_info": {
   "codemirror_mode": {
    "name": "ipython",
    "version": 3
   },
   "file_extension": ".py",
   "mimetype": "text/x-python",
   "name": "python",
   "nbconvert_exporter": "python",
   "pygments_lexer": "ipython3",
   "version": "3.7.3"
  }
 },
 "nbformat": 4,
 "nbformat_minor": 2
}
