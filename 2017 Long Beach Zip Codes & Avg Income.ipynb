{
 "cells": [
  {
   "cell_type": "code",
   "execution_count": 2,
   "metadata": {},
   "outputs": [],
   "source": [
    "# going to import Long Beach year 2017 csv with zip code & avg income to plot \n",
    "# Import dependencies\n",
    "import pandas as pd\n",
    "import matplotlib.pyplot as plt\n",
    "import numpy as np"
   ]
  },
  {
   "cell_type": "code",
   "execution_count": 3,
   "metadata": {},
   "outputs": [
    {
     "data": {
      "text/html": [
       "<div>\n",
       "<style scoped>\n",
       "    .dataframe tbody tr th:only-of-type {\n",
       "        vertical-align: middle;\n",
       "    }\n",
       "\n",
       "    .dataframe tbody tr th {\n",
       "        vertical-align: top;\n",
       "    }\n",
       "\n",
       "    .dataframe thead th {\n",
       "        text-align: right;\n",
       "    }\n",
       "</style>\n",
       "<table border=\"1\" class=\"dataframe\">\n",
       "  <thead>\n",
       "    <tr style=\"text-align: right;\">\n",
       "      <th></th>\n",
       "      <th>Unnamed: 0</th>\n",
       "      <th>ID</th>\n",
       "      <th>Year</th>\n",
       "      <th>Zip Code</th>\n",
       "      <th>City</th>\n",
       "      <th>Returns</th>\n",
       "      <th>CA AGI</th>\n",
       "      <th>Avg Income</th>\n",
       "    </tr>\n",
       "  </thead>\n",
       "  <tbody>\n",
       "    <tr>\n",
       "      <th>0</th>\n",
       "      <td>0</td>\n",
       "      <td>177</td>\n",
       "      <td>2017</td>\n",
       "      <td>93276</td>\n",
       "      <td>Tupman</td>\n",
       "      <td>54</td>\n",
       "      <td>1,853,226</td>\n",
       "      <td>34319.00</td>\n",
       "    </tr>\n",
       "    <tr>\n",
       "      <th>1</th>\n",
       "      <td>1768</td>\n",
       "      <td>137</td>\n",
       "      <td>2017</td>\n",
       "      <td>91407</td>\n",
       "      <td>Van Nuys</td>\n",
       "      <td>34</td>\n",
       "      <td>1,290,491</td>\n",
       "      <td>37955.62</td>\n",
       "    </tr>\n",
       "    <tr>\n",
       "      <th>2</th>\n",
       "      <td>1770</td>\n",
       "      <td>1315</td>\n",
       "      <td>2017</td>\n",
       "      <td>90045</td>\n",
       "      <td>Los Angeles</td>\n",
       "      <td>18,766</td>\n",
       "      <td>2,074,763,206</td>\n",
       "      <td>110559.69</td>\n",
       "    </tr>\n",
       "    <tr>\n",
       "      <th>3</th>\n",
       "      <td>1771</td>\n",
       "      <td>342</td>\n",
       "      <td>2017</td>\n",
       "      <td>91403</td>\n",
       "      <td>Sherman Oaks</td>\n",
       "      <td>14,265</td>\n",
       "      <td>1,989,124,375</td>\n",
       "      <td>139440.90</td>\n",
       "    </tr>\n",
       "    <tr>\n",
       "      <th>4</th>\n",
       "      <td>1772</td>\n",
       "      <td>1496</td>\n",
       "      <td>2017</td>\n",
       "      <td>95646</td>\n",
       "      <td>Kirkwood</td>\n",
       "      <td>52</td>\n",
       "      <td>2,911,176</td>\n",
       "      <td>55984.15</td>\n",
       "    </tr>\n",
       "  </tbody>\n",
       "</table>\n",
       "</div>"
      ],
      "text/plain": [
       "   Unnamed: 0    ID  Year Zip Code          City Returns         CA AGI  \\\n",
       "0           0   177  2017    93276        Tupman      54      1,853,226   \n",
       "1        1768   137  2017    91407      Van Nuys      34      1,290,491   \n",
       "2        1770  1315  2017    90045   Los Angeles  18,766  2,074,763,206   \n",
       "3        1771   342  2017    91403  Sherman Oaks  14,265  1,989,124,375   \n",
       "4        1772  1496  2017    95646      Kirkwood      52      2,911,176   \n",
       "\n",
       "   Avg Income  \n",
       "0    34319.00  \n",
       "1    37955.62  \n",
       "2   110559.69  \n",
       "3   139440.90  \n",
       "4    55984.15  "
      ]
     },
     "execution_count": 3,
     "metadata": {},
     "output_type": "execute_result"
    }
   ],
   "source": [
    "# import csv & read\n",
    "file = 'SoCal Zip Code Income 2017.csv'\n",
    "\n",
    "# read csv\n",
    "income_zipcode_2017 = pd.read_csv('SoCal Zip Code Income 2017.csv') \n",
    "income_zipcode_2017.head()"
   ]
  },
  {
   "cell_type": "code",
   "execution_count": 4,
   "metadata": {},
   "outputs": [
    {
     "data": {
      "text/plain": [
       "Index(['Unnamed: 0', 'ID', 'Year', 'Zip Code', 'City', 'Returns', 'CA AGI',\n",
       "       'Avg Income'],\n",
       "      dtype='object')"
      ]
     },
     "execution_count": 4,
     "metadata": {},
     "output_type": "execute_result"
    }
   ],
   "source": [
    "# print column names for reference \n",
    "income_zipcode_2017.columns"
   ]
  },
  {
   "cell_type": "code",
   "execution_count": 5,
   "metadata": {},
   "outputs": [
    {
     "data": {
      "text/plain": [
       "Unnamed: 0      int64\n",
       "ID              int64\n",
       "Year            int64\n",
       "Zip Code       object\n",
       "City           object\n",
       "Returns        object\n",
       "CA AGI         object\n",
       "Avg Income    float64\n",
       "dtype: object"
      ]
     },
     "execution_count": 5,
     "metadata": {},
     "output_type": "execute_result"
    }
   ],
   "source": [
    "# show the different column object types\n",
    "income_zipcode_2017.dtypes"
   ]
  },
  {
   "cell_type": "code",
   "execution_count": 6,
   "metadata": {},
   "outputs": [
    {
     "data": {
      "text/html": [
       "<div>\n",
       "<style scoped>\n",
       "    .dataframe tbody tr th:only-of-type {\n",
       "        vertical-align: middle;\n",
       "    }\n",
       "\n",
       "    .dataframe tbody tr th {\n",
       "        vertical-align: top;\n",
       "    }\n",
       "\n",
       "    .dataframe thead th {\n",
       "        text-align: right;\n",
       "    }\n",
       "</style>\n",
       "<table border=\"1\" class=\"dataframe\">\n",
       "  <thead>\n",
       "    <tr style=\"text-align: right;\">\n",
       "      <th></th>\n",
       "      <th>Unnamed: 0</th>\n",
       "      <th>ID</th>\n",
       "      <th>Year</th>\n",
       "      <th>Zip Code</th>\n",
       "      <th>City</th>\n",
       "      <th>Returns</th>\n",
       "      <th>CA AGI</th>\n",
       "      <th>Avg Income</th>\n",
       "    </tr>\n",
       "  </thead>\n",
       "  <tbody>\n",
       "    <tr>\n",
       "      <th>274</th>\n",
       "      <td>1834</td>\n",
       "      <td>1379</td>\n",
       "      <td>2017</td>\n",
       "      <td>90815</td>\n",
       "      <td>Long Beach</td>\n",
       "      <td>19,480</td>\n",
       "      <td>1,725,210,740</td>\n",
       "      <td>88563.18</td>\n",
       "    </tr>\n",
       "    <tr>\n",
       "      <th>322</th>\n",
       "      <td>1884</td>\n",
       "      <td>1368</td>\n",
       "      <td>2017</td>\n",
       "      <td>90802</td>\n",
       "      <td>Long Beach</td>\n",
       "      <td>20,003</td>\n",
       "      <td>1,128,446,514</td>\n",
       "      <td>56413.86</td>\n",
       "    </tr>\n",
       "    <tr>\n",
       "      <th>401</th>\n",
       "      <td>1461</td>\n",
       "      <td>1369</td>\n",
       "      <td>2017</td>\n",
       "      <td>90803</td>\n",
       "      <td>Long Beach</td>\n",
       "      <td>18,095</td>\n",
       "      <td>2,207,927,407</td>\n",
       "      <td>122018.65</td>\n",
       "    </tr>\n",
       "    <tr>\n",
       "      <th>659</th>\n",
       "      <td>1553</td>\n",
       "      <td>1373</td>\n",
       "      <td>2017</td>\n",
       "      <td>90807</td>\n",
       "      <td>Long Beach</td>\n",
       "      <td>16,474</td>\n",
       "      <td>1,386,576,665</td>\n",
       "      <td>84167.58</td>\n",
       "    </tr>\n",
       "    <tr>\n",
       "      <th>1347</th>\n",
       "      <td>635</td>\n",
       "      <td>1378</td>\n",
       "      <td>2017</td>\n",
       "      <td>90814</td>\n",
       "      <td>Long Beach</td>\n",
       "      <td>10,291</td>\n",
       "      <td>853,150,536</td>\n",
       "      <td>82902.59</td>\n",
       "    </tr>\n",
       "  </tbody>\n",
       "</table>\n",
       "</div>"
      ],
      "text/plain": [
       "      Unnamed: 0    ID  Year Zip Code        City Returns         CA AGI  \\\n",
       "274         1834  1379  2017    90815  Long Beach  19,480  1,725,210,740   \n",
       "322         1884  1368  2017    90802  Long Beach  20,003  1,128,446,514   \n",
       "401         1461  1369  2017    90803  Long Beach  18,095  2,207,927,407   \n",
       "659         1553  1373  2017    90807  Long Beach  16,474  1,386,576,665   \n",
       "1347         635  1378  2017    90814  Long Beach  10,291    853,150,536   \n",
       "\n",
       "      Avg Income  \n",
       "274     88563.18  \n",
       "322     56413.86  \n",
       "401    122018.65  \n",
       "659     84167.58  \n",
       "1347    82902.59  "
      ]
     },
     "execution_count": 6,
     "metadata": {},
     "output_type": "execute_result"
    }
   ],
   "source": [
    "# select Long Beach City zip codes\n",
    "subset_zip_inc = income_zipcode_2017[income_zipcode_2017['Zip Code'].isin(['90802', '90803', '90804', '90805', '90806', '90807', '90808', '90809', '90810', '90813', '90814', '90815']) ]\n",
    "subset_zip_inc.head()"
   ]
  },
  {
   "cell_type": "code",
   "execution_count": 7,
   "metadata": {},
   "outputs": [
    {
     "name": "stderr",
     "output_type": "stream",
     "text": [
      "C:\\Users\\quiro\\Anaconda3\\lib\\site-packages\\pandas\\core\\frame.py:3940: SettingWithCopyWarning: \n",
      "A value is trying to be set on a copy of a slice from a DataFrame\n",
      "\n",
      "See the caveats in the documentation: http://pandas.pydata.org/pandas-docs/stable/indexing.html#indexing-view-versus-copy\n",
      "  errors=errors)\n"
     ]
    },
    {
     "data": {
      "text/html": [
       "<div>\n",
       "<style scoped>\n",
       "    .dataframe tbody tr th:only-of-type {\n",
       "        vertical-align: middle;\n",
       "    }\n",
       "\n",
       "    .dataframe tbody tr th {\n",
       "        vertical-align: top;\n",
       "    }\n",
       "\n",
       "    .dataframe thead th {\n",
       "        text-align: right;\n",
       "    }\n",
       "</style>\n",
       "<table border=\"1\" class=\"dataframe\">\n",
       "  <thead>\n",
       "    <tr style=\"text-align: right;\">\n",
       "      <th></th>\n",
       "      <th>ID</th>\n",
       "      <th>Year</th>\n",
       "      <th>Zip Code</th>\n",
       "      <th>City</th>\n",
       "      <th>Returns</th>\n",
       "      <th>CA AGI</th>\n",
       "      <th>Avg Income</th>\n",
       "    </tr>\n",
       "  </thead>\n",
       "  <tbody>\n",
       "    <tr>\n",
       "      <th>274</th>\n",
       "      <td>1379</td>\n",
       "      <td>2017</td>\n",
       "      <td>90815</td>\n",
       "      <td>Long Beach</td>\n",
       "      <td>19,480</td>\n",
       "      <td>1,725,210,740</td>\n",
       "      <td>88563.18</td>\n",
       "    </tr>\n",
       "    <tr>\n",
       "      <th>322</th>\n",
       "      <td>1368</td>\n",
       "      <td>2017</td>\n",
       "      <td>90802</td>\n",
       "      <td>Long Beach</td>\n",
       "      <td>20,003</td>\n",
       "      <td>1,128,446,514</td>\n",
       "      <td>56413.86</td>\n",
       "    </tr>\n",
       "    <tr>\n",
       "      <th>401</th>\n",
       "      <td>1369</td>\n",
       "      <td>2017</td>\n",
       "      <td>90803</td>\n",
       "      <td>Long Beach</td>\n",
       "      <td>18,095</td>\n",
       "      <td>2,207,927,407</td>\n",
       "      <td>122018.65</td>\n",
       "    </tr>\n",
       "    <tr>\n",
       "      <th>659</th>\n",
       "      <td>1373</td>\n",
       "      <td>2017</td>\n",
       "      <td>90807</td>\n",
       "      <td>Long Beach</td>\n",
       "      <td>16,474</td>\n",
       "      <td>1,386,576,665</td>\n",
       "      <td>84167.58</td>\n",
       "    </tr>\n",
       "    <tr>\n",
       "      <th>1347</th>\n",
       "      <td>1378</td>\n",
       "      <td>2017</td>\n",
       "      <td>90814</td>\n",
       "      <td>Long Beach</td>\n",
       "      <td>10,291</td>\n",
       "      <td>853,150,536</td>\n",
       "      <td>82902.59</td>\n",
       "    </tr>\n",
       "  </tbody>\n",
       "</table>\n",
       "</div>"
      ],
      "text/plain": [
       "        ID  Year Zip Code        City Returns         CA AGI  Avg Income\n",
       "274   1379  2017    90815  Long Beach  19,480  1,725,210,740    88563.18\n",
       "322   1368  2017    90802  Long Beach  20,003  1,128,446,514    56413.86\n",
       "401   1369  2017    90803  Long Beach  18,095  2,207,927,407   122018.65\n",
       "659   1373  2017    90807  Long Beach  16,474  1,386,576,665    84167.58\n",
       "1347  1378  2017    90814  Long Beach  10,291    853,150,536    82902.59"
      ]
     },
     "execution_count": 7,
     "metadata": {},
     "output_type": "execute_result"
    }
   ],
   "source": [
    "subset_zip_inc.drop = subset_zip_inc.drop('Unnamed: 0', axis = 1, inplace=True)\n",
    "subset_zip_inc.head()"
   ]
  },
  {
   "cell_type": "code",
   "execution_count": 8,
   "metadata": {},
   "outputs": [
    {
     "name": "stdout",
     "output_type": "stream",
     "text": [
      "        ID  Year Zip Code        City Returns         CA AGI  Avg Income\n",
      "274   1379  2017    90815  Long Beach  19,480  1,725,210,740    88563.18\n",
      "322   1368  2017    90802  Long Beach  20,003  1,128,446,514    56413.86\n",
      "401   1369  2017    90803  Long Beach  18,095  2,207,927,407   122018.65\n",
      "659   1373  2017    90807  Long Beach  16,474  1,386,576,665    84167.58\n",
      "1347  1378  2017    90814  Long Beach  10,291    853,150,536    82902.59\n",
      "1456  1374  2017    90808  Long Beach  19,524  1,792,417,489    91805.85\n",
      "1465  1371  2017    90805  Long Beach  40,884  1,566,216,661    38308.79\n",
      "1671  1370  2017    90804  Long Beach  18,148    812,189,919    44753.69\n",
      "1884  1375  2017    90809  Long Beach     478     29,725,487    62187.21\n",
      "1905  1372  2017    90806  Long Beach  18,629    772,333,338    41458.66\n",
      "2163  1377  2017    90813  Long Beach  21,398    680,120,823    31784.32\n",
      "2271  1376  2017    90810  Long Beach  16,978    704,830,305    41514.33\n"
     ]
    }
   ],
   "source": [
    "print(subset_zip_inc)"
   ]
  },
  {
   "cell_type": "code",
   "execution_count": 15,
   "metadata": {},
   "outputs": [],
   "source": [
    "# export 2017 mean income for San Diego zips to csv files\n",
    "long_beach_zip_inc_2017 = pd.read_csv(\"Long Beach Zip Codes Income 2017.csv\")"
   ]
  },
  {
   "cell_type": "code",
   "execution_count": 16,
   "metadata": {},
   "outputs": [],
   "source": [
    "# Set x axis and tick locations\n",
    "x_axis = np.arange(len(long_beach_zip_inc_2017))\n",
    "tick_locations = [value for value in x_axis]"
   ]
  },
  {
   "cell_type": "code",
   "execution_count": 18,
   "metadata": {},
   "outputs": [
    {
     "data": {
      "image/png": "[encoded data removed]",
      "text/plain": [
       "<Figure size 576x360 with 1 Axes>"
      ]
     },
     "metadata": {
      "needs_background": "light"
     },
     "output_type": "display_data"
    }
   ],
   "source": [
    "# Create a list indicating where to write x labels and set figure size to adjust for space\n",
    "plt.figure(figsize=(8,5))\n",
    "plt.bar(x_axis, long_beach_zip_inc_2017[\"Avg Income\"], color='g', alpha=1.0, align=\"center\")\n",
    "plt.xticks(tick_locations, long_beach_zip_inc_2017[\"Zip Code\"], rotation=\"vertical\")\n",
    "\n",
    "# Set a Title and labels\n",
    "plt.title(\"Long Beach Average Income per Zip Code\")\n",
    "plt.xlabel(\"Zip Code\")\n",
    "plt.ylabel(\"Average Income\")\n",
    "\n",
    "# Save our graph and show the grap\n",
    "plt.tight_layout()\n",
    "plt.savefig(\"Long_Beach_avg_zip_inc.png\")\n",
    "plt.show()"
   ]
  },
  {
   "cell_type": "code",
   "execution_count": null,
   "metadata": {},
   "outputs": [],
   "source": []
  }
 ],
 "metadata": {
  "kernelspec": {
   "display_name": "Python 3",
   "language": "python",
   "name": "python3"
  },
  "language_info": {
   "codemirror_mode": {
    "name": "ipython",
    "version": 3
   },
   "file_extension": ".py",
   "mimetype": "text/x-python",
   "name": "python",
   "nbconvert_exporter": "python",
   "pygments_lexer": "ipython3",
   "version": "3.7.3"
  }
 },
 "nbformat": 4,
 "nbformat_minor": 2
}
