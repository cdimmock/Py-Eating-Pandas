{
 "cells": [
  {
   "cell_type": "code",
   "execution_count": 1,
   "metadata": {},
   "outputs": [],
   "source": [
    "import matplotlib\n",
    "import matplotlib.pyplot as plt\n",
    "import csv\n",
    "import pandas as pd\n",
    "import os\n",
    "import numpy as np\n"
   ]
  },
  {
   "cell_type": "code",
   "execution_count": 2,
   "metadata": {},
   "outputs": [],
   "source": [
    "File1 = \"../Clean Default.csv\"\n",
    "Default_info = pd.read_csv(File1)"
   ]
  },
  {
   "cell_type": "code",
   "execution_count": 3,
   "metadata": {},
   "outputs": [],
   "source": [
    "newDefault = Default_info.drop(Default_info.iloc[:, 5:],axis = 1)"
   ]
  },
  {
   "cell_type": "code",
   "execution_count": null,
   "metadata": {},
   "outputs": [],
   "source": [
    "File3 = \"../Clean San Diego.csv\"\n",
    "LA_info = pd.read_csv(File2)\n",
    "LA_info = LA_info.drop(columns = [\"Unnamed: 0\",\"Unnamed: 0.1\",\"Zipcode\",\"Type\"],axis = 1)\n",
    "LA_info = LA_info.convert_objects(convert_numeric=True)\n",
    "LA_info['Los Angeles Zip Codes'] = LA_info['Los Angeles Zip Codes'].astype(np.float64)\n",
    "LA_info = LA_info.sort_values(\"Home Value\",ascending = True)\n",
    "LA_info.head(20)"
   ]
  }
 ],
 "metadata": {
  "kernelspec": {
   "display_name": "Python 3",
   "language": "python",
   "name": "python3"
  },
  "language_info": {
   "codemirror_mode": {
    "name": "ipython",
    "version": 3
   },
   "file_extension": ".py",
   "mimetype": "text/x-python",
   "name": "python",
   "nbconvert_exporter": "python",
   "pygments_lexer": "ipython3",
   "version": "3.7.3"
  }
 },
 "nbformat": 4,
 "nbformat_minor": 2
}
