{
 "cells": [
  {
   "cell_type": "code",
   "execution_count": 1,
   "metadata": {},
   "outputs": [],
   "source": [
    "import matplotlib\n",
    "import matplotlib.pyplot as plt\n",
    "import csv\n",
    "import pandas as pd\n",
    "import os\n",
    "import numpy as np\n"
   ]
  },
  {
   "cell_type": "code",
   "execution_count": 2,
   "metadata": {},
   "outputs": [],
   "source": [
    "File1 = \"../Clean Default.csv\"\n",
    "Default_info = pd.read_csv(File1)"
   ]
  },
  {
   "cell_type": "code",
   "execution_count": 3,
   "metadata": {},
   "outputs": [],
   "source": [
    "newDefault = Default_info.drop(Default_info.iloc[:, 5:],axis = 1)"
   ]
  },
  {
   "cell_type": "code",
   "execution_count": 13,
   "metadata": {},
   "outputs": [
    {
     "name": "stderr",
     "output_type": "stream",
     "text": [
      "/anaconda3/lib/python3.7/site-packages/ipykernel_launcher.py:4: FutureWarning: convert_objects is deprecated.  To re-infer data dtypes for object columns, use DataFrame.infer_objects()\n",
      "For all other conversions use the data-type specific converters pd.to_datetime, pd.to_timedelta and pd.to_numeric.\n",
      "  after removing the cwd from sys.path.\n"
     ]
    },
    {
     "data": {
      "text/html": [
       "<div>\n",
       "<style scoped>\n",
       "    .dataframe tbody tr th:only-of-type {\n",
       "        vertical-align: middle;\n",
       "    }\n",
       "\n",
       "    .dataframe tbody tr th {\n",
       "        vertical-align: top;\n",
       "    }\n",
       "\n",
       "    .dataframe thead th {\n",
       "        text-align: right;\n",
       "    }\n",
       "</style>\n",
       "<table border=\"1\" class=\"dataframe\">\n",
       "  <thead>\n",
       "    <tr style=\"text-align: right;\">\n",
       "      <th></th>\n",
       "      <th>San Diego Zip Codes</th>\n",
       "      <th>Home Value</th>\n",
       "    </tr>\n",
       "  </thead>\n",
       "  <tbody>\n",
       "    <tr>\n",
       "      <th>8</th>\n",
       "      <td>92108.0</td>\n",
       "      <td>403400</td>\n",
       "    </tr>\n",
       "    <tr>\n",
       "      <th>12</th>\n",
       "      <td>92113.0</td>\n",
       "      <td>408900</td>\n",
       "    </tr>\n",
       "    <tr>\n",
       "      <th>5</th>\n",
       "      <td>92105.0</td>\n",
       "      <td>437600</td>\n",
       "    </tr>\n",
       "    <tr>\n",
       "      <th>31</th>\n",
       "      <td>92173.0</td>\n",
       "      <td>451500</td>\n",
       "    </tr>\n",
       "    <tr>\n",
       "      <th>29</th>\n",
       "      <td>92139.0</td>\n",
       "      <td>456000</td>\n",
       "    </tr>\n",
       "    <tr>\n",
       "      <th>13</th>\n",
       "      <td>92114.0</td>\n",
       "      <td>458600</td>\n",
       "    </tr>\n",
       "    <tr>\n",
       "      <th>2</th>\n",
       "      <td>92102.0</td>\n",
       "      <td>464400</td>\n",
       "    </tr>\n",
       "    <tr>\n",
       "      <th>30</th>\n",
       "      <td>92154.0</td>\n",
       "      <td>479300</td>\n",
       "    </tr>\n",
       "    <tr>\n",
       "      <th>14</th>\n",
       "      <td>92115.0</td>\n",
       "      <td>539600</td>\n",
       "    </tr>\n",
       "    <tr>\n",
       "      <th>1</th>\n",
       "      <td>92101.0</td>\n",
       "      <td>582800</td>\n",
       "    </tr>\n",
       "    <tr>\n",
       "      <th>11</th>\n",
       "      <td>92111.0</td>\n",
       "      <td>606900</td>\n",
       "    </tr>\n",
       "    <tr>\n",
       "      <th>17</th>\n",
       "      <td>92119.0</td>\n",
       "      <td>609200</td>\n",
       "    </tr>\n",
       "    <tr>\n",
       "      <th>23</th>\n",
       "      <td>92126.0</td>\n",
       "      <td>609800</td>\n",
       "    </tr>\n",
       "    <tr>\n",
       "      <th>21</th>\n",
       "      <td>92123.0</td>\n",
       "      <td>614700</td>\n",
       "    </tr>\n",
       "    <tr>\n",
       "      <th>4</th>\n",
       "      <td>92104.0</td>\n",
       "      <td>621000</td>\n",
       "    </tr>\n",
       "    <tr>\n",
       "      <th>15</th>\n",
       "      <td>92116.0</td>\n",
       "      <td>634100</td>\n",
       "    </tr>\n",
       "    <tr>\n",
       "      <th>18</th>\n",
       "      <td>92120.0</td>\n",
       "      <td>651200</td>\n",
       "    </tr>\n",
       "    <tr>\n",
       "      <th>25</th>\n",
       "      <td>92128.0</td>\n",
       "      <td>657300</td>\n",
       "    </tr>\n",
       "    <tr>\n",
       "      <th>10</th>\n",
       "      <td>92110.0</td>\n",
       "      <td>663500</td>\n",
       "    </tr>\n",
       "    <tr>\n",
       "      <th>22</th>\n",
       "      <td>92124.0</td>\n",
       "      <td>673200</td>\n",
       "    </tr>\n",
       "  </tbody>\n",
       "</table>\n",
       "</div>"
      ],
      "text/plain": [
       "    San Diego Zip Codes  Home Value\n",
       "8               92108.0      403400\n",
       "12              92113.0      408900\n",
       "5               92105.0      437600\n",
       "31              92173.0      451500\n",
       "29              92139.0      456000\n",
       "13              92114.0      458600\n",
       "2               92102.0      464400\n",
       "30              92154.0      479300\n",
       "14              92115.0      539600\n",
       "1               92101.0      582800\n",
       "11              92111.0      606900\n",
       "17              92119.0      609200\n",
       "23              92126.0      609800\n",
       "21              92123.0      614700\n",
       "4               92104.0      621000\n",
       "15              92116.0      634100\n",
       "18              92120.0      651200\n",
       "25              92128.0      657300\n",
       "10              92110.0      663500\n",
       "22              92124.0      673200"
      ]
     },
     "execution_count": 13,
     "metadata": {},
     "output_type": "execute_result"
    }
   ],
   "source": [
    "File3 = \"../Clean San Diego.csv\"\n",
    "SD_info = pd.read_csv(File3)\n",
    "SD_info = SD_info.drop(columns = [\"Unnamed: 0\",\"Unnamed: 0.1\",\"Zipcode\",\"Type\"],axis = 1)\n",
    "SD_info = SD_info.convert_objects(convert_numeric=True)\n",
    "SD_info['San Diego Zip Codes'] = SD_info['San Diego Zip Codes'].astype(np.float64)\n",
    "SD_info = SD_info.sort_values(\"Home Value\",ascending = True)\n",
    "SD_info.head(20)"
   ]
  },
  {
   "cell_type": "code",
   "execution_count": 32,
   "metadata": {},
   "outputs": [
    {
     "data": {
      "text/plain": [
       "100000"
      ]
     },
     "execution_count": 32,
     "metadata": {},
     "output_type": "execute_result"
    }
   ],
   "source": [
    "Home_Value = [100000,500000,1000000,5000000]\n",
    "Home_Value[0]"
   ]
  },
  {
   "cell_type": "code",
   "execution_count": 56,
   "metadata": {},
   "outputs": [],
   "source": [
    "#Convert the column Home Value from the LB Dataframe to list\n",
    "Home_Value = [100000,500000,1000000,5000000]\n",
    "\n",
    "#Create empty list to store values\n",
    "Total_list= [];\n",
    "Default_list = [];\n",
    "Not_Default_list = [];\n",
    "\n",
    "#Run a for loop to see all Default table that are less than the current House value i  \n",
    "for i in range(len(Home_Value)):\n",
    "    Tabless = Default_info[Default_info[\"Home Value\"] < Home_Value[i]]\n",
    "    Tabless = Tabless[Tabless[\"Years at Job\"] <= 30]\n",
    "    Total = Tabless['BAD'].count()\n",
    "    Default = (Tabless['BAD'] == 1).sum()\n",
    "    Not_Default = (Tabless['BAD'] == 0).sum()\n",
    "    Total_list.append(Total)\n",
    "    Default_list.append(Default)\n",
    "    Not_Default_list.append(Not_Default)\n",
    "     \n",
    "\n",
    "#Making a DataFrame from the list we were able to obtain \n",
    "Numbers = pd.Series(Home_Value)\n",
    "df = pd.DataFrame({\"Total Count of Default & Not Default\": Total_list, \"Sum of Default\": Default_list,\"Sum of Not Default\":Not_Default_list})\n",
    "df = df.set_index(Numbers)\n",
    "df = df.drop_duplicates('Sum of Default')\n",
    "\n"
   ]
  },
  {
   "cell_type": "code",
   "execution_count": 57,
   "metadata": {},
   "outputs": [
    {
     "data": {
      "text/plain": [
       "<matplotlib.legend.Legend at 0x120d3c0f0>"
      ]
     },
     "execution_count": 57,
     "metadata": {},
     "output_type": "execute_result"
    },
    {
     "data": {
      "image/png": "[encoded data removed]",
      "text/plain": [
       "<Figure size 432x288 with 1 Axes>"
      ]
     },
     "metadata": {
      "needs_background": "light"
     },
     "output_type": "display_data"
    }
   ],
   "source": [
    "percent_default =(df[\"Sum of Default\"]/df[\"Total Count of Default & Not Default\"]*100).tolist()\n",
    "percent_not_default = (df[\"Sum of Not Default\"]/df[\"Total Count of Default & Not Default\"]*100).tolist()\n",
    "\n",
    "\n",
    "ind = np.arange(len(percent_default))\n",
    "width = 0.35\n",
    "\n",
    "fig, ax = plt.subplots()\n",
    "rects1 = ax.bar(ind - width/2, percent_default, width,label= \"Default\")\n",
    "rects2 = ax.bar(ind + width/2, percent_not_default, width, label= \"Paid\")\n",
    "\n",
    "ax.set_xlabel('Home Value')\n",
    "ax.set_ylabel('Percentage %')\n",
    "ax.set_title('Percentage vs Home Value')\n",
    "ax.set_xticks(ind)\n",
    "ax.set_xticklabels(('$100k','$500k','$1mil','$5mil'))\n",
    "ax.legend()\n"
   ]
  },
  {
   "cell_type": "code",
   "execution_count": null,
   "metadata": {},
   "outputs": [],
   "source": []
  }
 ],
 "metadata": {
  "kernelspec": {
   "display_name": "Python 3",
   "language": "python",
   "name": "python3"
  },
  "language_info": {
   "codemirror_mode": {
    "name": "ipython",
    "version": 3
   },
   "file_extension": ".py",
   "mimetype": "text/x-python",
   "name": "python",
   "nbconvert_exporter": "python",
   "pygments_lexer": "ipython3",
   "version": "3.7.3"
  }
 },
 "nbformat": 4,
 "nbformat_minor": 2
}
