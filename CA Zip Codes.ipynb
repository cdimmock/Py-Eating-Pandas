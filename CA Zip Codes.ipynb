{
 "cells": [
  {
   "cell_type": "code",
   "execution_count": 10,
   "metadata": {},
   "outputs": [],
   "source": [
    "import matplotlib\n",
    "import matplotlib.pyplot as plt\n",
    "import csv\n",
    "import pandas as pd\n",
    "import os\n",
    "import numpy as np"
   ]
  },
  {
   "cell_type": "code",
   "execution_count": 11,
   "metadata": {},
   "outputs": [
    {
     "data": {
      "text/html": [
       "<div>\n",
       "<style scoped>\n",
       "    .dataframe tbody tr th:only-of-type {\n",
       "        vertical-align: middle;\n",
       "    }\n",
       "\n",
       "    .dataframe tbody tr th {\n",
       "        vertical-align: top;\n",
       "    }\n",
       "\n",
       "    .dataframe thead th {\n",
       "        text-align: right;\n",
       "    }\n",
       "</style>\n",
       "<table border=\"1\" class=\"dataframe\">\n",
       "  <thead>\n",
       "    <tr style=\"text-align: right;\">\n",
       "      <th></th>\n",
       "      <th>Unnamed: 0</th>\n",
       "      <th>Long Beach Zip Code</th>\n",
       "      <th>Zipcode</th>\n",
       "      <th>Type</th>\n",
       "      <th>Home Value</th>\n",
       "    </tr>\n",
       "  </thead>\n",
       "  <tbody>\n",
       "    <tr>\n",
       "      <th>10</th>\n",
       "      <td>10</td>\n",
       "      <td>90809</td>\n",
       "      <td>zipcode</td>\n",
       "      <td>All Homes</td>\n",
       "      <td>---</td>\n",
       "    </tr>\n",
       "    <tr>\n",
       "      <th>3</th>\n",
       "      <td>3</td>\n",
       "      <td>90802</td>\n",
       "      <td>zipcode</td>\n",
       "      <td>All Homes</td>\n",
       "      <td>378200</td>\n",
       "    </tr>\n",
       "    <tr>\n",
       "      <th>12</th>\n",
       "      <td>12</td>\n",
       "      <td>90813</td>\n",
       "      <td>zipcode</td>\n",
       "      <td>All Homes</td>\n",
       "      <td>396200</td>\n",
       "    </tr>\n",
       "    <tr>\n",
       "      <th>6</th>\n",
       "      <td>6</td>\n",
       "      <td>90805</td>\n",
       "      <td>zipcode</td>\n",
       "      <td>All Homes</td>\n",
       "      <td>466700</td>\n",
       "    </tr>\n",
       "    <tr>\n",
       "      <th>11</th>\n",
       "      <td>11</td>\n",
       "      <td>90810</td>\n",
       "      <td>zipcode</td>\n",
       "      <td>All Homes</td>\n",
       "      <td>477400</td>\n",
       "    </tr>\n",
       "  </tbody>\n",
       "</table>\n",
       "</div>"
      ],
      "text/plain": [
       "    Unnamed: 0 Long Beach Zip Code  Zipcode       Type Home Value\n",
       "10          10               90809  zipcode  All Homes        ---\n",
       "3            3               90802  zipcode  All Homes     378200\n",
       "12          12               90813  zipcode  All Homes     396200\n",
       "6            6               90805  zipcode  All Homes     466700\n",
       "11          11               90810  zipcode  All Homes     477400"
      ]
     },
     "execution_count": 11,
     "metadata": {},
     "output_type": "execute_result"
    }
   ],
   "source": [
    "#import excel file and convert into csv\n",
    "data_xls = pd.read_excel('long-beach-ca.xls', index_col=None)\n",
    "data_xls.to_csv('Long Beach.csv')\n",
    "LongBeachCSV = \"Long Beach.csv\"\n",
    "LongBeach = pd.read_csv(LongBeachCSV)\n",
    "\n",
    "#Renaming columns\n",
    "Rename_LB = LongBeach.rename(columns = {\"Long Beach, CA - All Homes\":\"Long Beach Zip Code\",\"Unnamed: 1\": \"Zipcode\",\n",
    "                                        \"Unnamed: 2\":\"Type\",\"Unnamed: 3\": \"Home Value\"})\n",
    "#Drop unnecessary columns and rows\n",
    "Drop_LongBeach = Rename_LB.drop(Rename_LB.iloc[:,5:80],axis = 1)\n",
    "Drop_LongBeach = Drop_LongBeach.drop([0,1,2],axis = 0)\n",
    "#Display DF\n",
    "LongBeach = Drop_LongBeach.sort_values(\"Home Value\", ascending = True)\n",
    "LongBeach.head()\n",
    "\n"
   ]
  },
  {
   "cell_type": "code",
   "execution_count": 12,
   "metadata": {},
   "outputs": [
    {
     "data": {
      "image/png": "[encoded data removed]",
      "text/plain": [
       "<Figure size 432x288 with 1 Axes>"
      ]
     },
     "metadata": {
      "needs_background": "light"
     },
     "output_type": "display_data"
    }
   ],
   "source": [
    "x_label = list(LongBeach[\"Long Beach Zip Code\"])\n",
    "y_label = list(LongBeach[\"Home Value\"])\n",
    "plt.scatter(x_label, y_label, c=\"steelblue\",edgecolor = \"black\", alpha=0.75)\n",
    "plt.xlabel(\"Zip\")\n",
    "plt.ylabel(\"Home Value\")\n",
    "plt.title(\"Zip vs Home Value\")\n",
    "plt.grid(True)\n",
    "#plt.ylim((0,100000))\n",
    "plt.show()"
   ]
  },
  {
   "cell_type": "code",
   "execution_count": 13,
   "metadata": {},
   "outputs": [
    {
     "name": "stderr",
     "output_type": "stream",
     "text": [
      "/anaconda3/lib/python3.7/site-packages/ipykernel_launcher.py:17: FutureWarning: convert_objects is deprecated.  To re-infer data dtypes for object columns, use DataFrame.infer_objects()\n",
      "For all other conversions use the data-type specific converters pd.to_datetime, pd.to_timedelta and pd.to_numeric.\n"
     ]
    },
    {
     "data": {
      "text/html": [
       "<div>\n",
       "<style scoped>\n",
       "    .dataframe tbody tr th:only-of-type {\n",
       "        vertical-align: middle;\n",
       "    }\n",
       "\n",
       "    .dataframe tbody tr th {\n",
       "        vertical-align: top;\n",
       "    }\n",
       "\n",
       "    .dataframe thead th {\n",
       "        text-align: right;\n",
       "    }\n",
       "</style>\n",
       "<table border=\"1\" class=\"dataframe\">\n",
       "  <thead>\n",
       "    <tr style=\"text-align: right;\">\n",
       "      <th></th>\n",
       "      <th>Zip Code</th>\n",
       "      <th>Home Value</th>\n",
       "    </tr>\n",
       "  </thead>\n",
       "  <tbody>\n",
       "    <tr>\n",
       "      <th>3</th>\n",
       "      <td>90001</td>\n",
       "      <td>381400.0</td>\n",
       "    </tr>\n",
       "    <tr>\n",
       "      <th>4</th>\n",
       "      <td>90002</td>\n",
       "      <td>378400.0</td>\n",
       "    </tr>\n",
       "    <tr>\n",
       "      <th>5</th>\n",
       "      <td>90003</td>\n",
       "      <td>402600.0</td>\n",
       "    </tr>\n",
       "    <tr>\n",
       "      <th>6</th>\n",
       "      <td>90004</td>\n",
       "      <td>1379700.0</td>\n",
       "    </tr>\n",
       "    <tr>\n",
       "      <th>7</th>\n",
       "      <td>90005</td>\n",
       "      <td>781700.0</td>\n",
       "    </tr>\n",
       "  </tbody>\n",
       "</table>\n",
       "</div>"
      ],
      "text/plain": [
       "   Zip Code  Home Value\n",
       "3     90001    381400.0\n",
       "4     90002    378400.0\n",
       "5     90003    402600.0\n",
       "6     90004   1379700.0\n",
       "7     90005    781700.0"
      ]
     },
     "execution_count": 13,
     "metadata": {},
     "output_type": "execute_result"
    }
   ],
   "source": [
    "#import excel file and convert into csv\n",
    "LA_xls = pd.read_excel('los-angeles-ca.xls', index_col = None)\n",
    "LA_xls.to_csv = ('LA.csv')\n",
    "LA_CSV = 'LA.csv'\n",
    "LA_Data = pd.read_csv(LA_CSV)\n",
    "\n",
    "\n",
    "#Renaming columns\n",
    "Rename_LA = LA_Data.rename(columns = {\"Los Angeles, CA - All Homes\":\"Zip Code\",\"Unnamed: 1\": \"Zipcode\",\n",
    "                                      \"Unnamed: 2\":\"Type\",\"Unnamed: 3\":\"Home Value\"})\n",
    "\n",
    "#Drop unnecessary columns and rows\n",
    "Drop_LosAngeles = Rename_LA.drop(Rename_LA.iloc[:,5:80],axis = 1)\n",
    "Drop_LosAngeles = Drop_LosAngeles.drop([0,1,2],axis = 0)\n",
    "\n",
    "New_LA = Drop_LosAngeles[[\"Zip Code\",\"Home Value\"]]\n",
    "New_LA = New_LA.convert_objects(convert_numeric = True)\n",
    "New_LA.head()\n",
    "#Display F\n",
    "#Drop_LosAngeles.head(2020)"
   ]
  },
  {
   "cell_type": "code",
   "execution_count": 14,
   "metadata": {},
   "outputs": [],
   "source": [
    "# x_label = list(Drop_LosAngeles[\"Los Angeles Zip Codes\"])\n",
    "# y_label = list(Drop_LosAngeles[\"Home Value\"])\n",
    "# plt.scatter(x_label, y_label, c=\"steelblue\",edgecolor = \"black\", alpha=0.75)\n",
    "# plt.xlabel(\"Zip\")\n",
    "# plt.ylabel(\"Home Value\")\n",
    "# plt.title(\"Zip vs Home Value\")\n",
    "# plt.grid(True)\n",
    "# plt.show()"
   ]
  },
  {
   "cell_type": "code",
   "execution_count": 15,
   "metadata": {},
   "outputs": [
    {
     "data": {
      "text/html": [
       "<div>\n",
       "<style scoped>\n",
       "    .dataframe tbody tr th:only-of-type {\n",
       "        vertical-align: middle;\n",
       "    }\n",
       "\n",
       "    .dataframe tbody tr th {\n",
       "        vertical-align: top;\n",
       "    }\n",
       "\n",
       "    .dataframe thead th {\n",
       "        text-align: right;\n",
       "    }\n",
       "</style>\n",
       "<table border=\"1\" class=\"dataframe\">\n",
       "  <thead>\n",
       "    <tr style=\"text-align: right;\">\n",
       "      <th></th>\n",
       "      <th>Unnamed: 0</th>\n",
       "      <th>Riverside Zip Codes</th>\n",
       "      <th>Zipcode</th>\n",
       "      <th>Type</th>\n",
       "      <th>Home Value</th>\n",
       "    </tr>\n",
       "  </thead>\n",
       "  <tbody>\n",
       "    <tr>\n",
       "      <th>3</th>\n",
       "      <td>3</td>\n",
       "      <td>92501</td>\n",
       "      <td>zipcode</td>\n",
       "      <td>All Homes</td>\n",
       "      <td>347600</td>\n",
       "    </tr>\n",
       "    <tr>\n",
       "      <th>4</th>\n",
       "      <td>4</td>\n",
       "      <td>92503</td>\n",
       "      <td>zipcode</td>\n",
       "      <td>All Homes</td>\n",
       "      <td>397300</td>\n",
       "    </tr>\n",
       "    <tr>\n",
       "      <th>5</th>\n",
       "      <td>5</td>\n",
       "      <td>92504</td>\n",
       "      <td>zipcode</td>\n",
       "      <td>All Homes</td>\n",
       "      <td>376100</td>\n",
       "    </tr>\n",
       "    <tr>\n",
       "      <th>6</th>\n",
       "      <td>6</td>\n",
       "      <td>92505</td>\n",
       "      <td>zipcode</td>\n",
       "      <td>All Homes</td>\n",
       "      <td>402900</td>\n",
       "    </tr>\n",
       "    <tr>\n",
       "      <th>7</th>\n",
       "      <td>7</td>\n",
       "      <td>92506</td>\n",
       "      <td>zipcode</td>\n",
       "      <td>All Homes</td>\n",
       "      <td>454600</td>\n",
       "    </tr>\n",
       "    <tr>\n",
       "      <th>8</th>\n",
       "      <td>8</td>\n",
       "      <td>92507</td>\n",
       "      <td>zipcode</td>\n",
       "      <td>All Homes</td>\n",
       "      <td>376200</td>\n",
       "    </tr>\n",
       "    <tr>\n",
       "      <th>9</th>\n",
       "      <td>9</td>\n",
       "      <td>92508</td>\n",
       "      <td>zipcode</td>\n",
       "      <td>All Homes</td>\n",
       "      <td>495800</td>\n",
       "    </tr>\n",
       "  </tbody>\n",
       "</table>\n",
       "</div>"
      ],
      "text/plain": [
       "   Unnamed: 0 Riverside Zip Codes  Zipcode       Type Home Value\n",
       "3           3               92501  zipcode  All Homes     347600\n",
       "4           4               92503  zipcode  All Homes     397300\n",
       "5           5               92504  zipcode  All Homes     376100\n",
       "6           6               92505  zipcode  All Homes     402900\n",
       "7           7               92506  zipcode  All Homes     454600\n",
       "8           8               92507  zipcode  All Homes     376200\n",
       "9           9               92508  zipcode  All Homes     495800"
      ]
     },
     "execution_count": 15,
     "metadata": {},
     "output_type": "execute_result"
    }
   ],
   "source": [
    "#import excel file and convert into csv\n",
    "data_xls = pd.read_excel('riverside-ca.xls', index_col=None)\n",
    "data_xls.to_csv('Riverside.csv')\n",
    "RiversideCSV = \"Riverside.csv\"\n",
    "Riverside = pd.read_csv(RiversideCSV)\n",
    "Riverside\n",
    "\n",
    "#Renaming columns\n",
    "Rename_Riverside = Riverside.rename(columns = {\"Riverside, CA - All Homes\":\"Riverside Zip Codes\",\n",
    "                                               \"Unnamed: 1\": \"Zipcode\",\"Unnamed: 2\":\"Type\",\n",
    "                                               \"Unnamed: 3\":\"Home Value\"})\n",
    "\n",
    "#Drop unnecessary columns and rows\n",
    "Drop_Riverside = Rename_Riverside.drop(Rename_Riverside.iloc[:,5:80],axis = 1)\n",
    "Drop_Riverside = Drop_Riverside.drop([0,1,2],axis = 0)\n",
    "\n",
    "#Display DF\n",
    "Drop_Riverside"
   ]
  },
  {
   "cell_type": "code",
   "execution_count": 16,
   "metadata": {},
   "outputs": [
    {
     "data": {
      "image/png": "[encoded data removed]",
      "text/plain": [
       "<Figure size 432x288 with 1 Axes>"
      ]
     },
     "metadata": {
      "needs_background": "light"
     },
     "output_type": "display_data"
    }
   ],
   "source": [
    "x_label = list(Drop_Riverside[\"Riverside Zip Codes\"])\n",
    "y_label = list(Drop_Riverside[\"Home Value\"])\n",
    "plt.scatter(x_label, y_label, c=\"steelblue\",edgecolor = \"black\", alpha=0.75)\n",
    "plt.xlabel(\"Zip\")\n",
    "plt.ylabel(\"Home Value\")\n",
    "plt.title(\"Zip vs Home Value\")\n",
    "plt.grid(True)\n",
    "plt.show()"
   ]
  },
  {
   "cell_type": "code",
   "execution_count": 17,
   "metadata": {},
   "outputs": [
    {
     "data": {
      "text/html": [
       "<div>\n",
       "<style scoped>\n",
       "    .dataframe tbody tr th:only-of-type {\n",
       "        vertical-align: middle;\n",
       "    }\n",
       "\n",
       "    .dataframe tbody tr th {\n",
       "        vertical-align: top;\n",
       "    }\n",
       "\n",
       "    .dataframe thead th {\n",
       "        text-align: right;\n",
       "    }\n",
       "</style>\n",
       "<table border=\"1\" class=\"dataframe\">\n",
       "  <thead>\n",
       "    <tr style=\"text-align: right;\">\n",
       "      <th></th>\n",
       "      <th>Unnamed: 0</th>\n",
       "      <th>San Diego Zip Codes</th>\n",
       "      <th>Zipcode</th>\n",
       "      <th>Type</th>\n",
       "      <th>Home Value</th>\n",
       "    </tr>\n",
       "  </thead>\n",
       "  <tbody>\n",
       "    <tr>\n",
       "      <th>3</th>\n",
       "      <td>3</td>\n",
       "      <td>92037</td>\n",
       "      <td>zipcode</td>\n",
       "      <td>All Homes</td>\n",
       "      <td>1587800</td>\n",
       "    </tr>\n",
       "    <tr>\n",
       "      <th>4</th>\n",
       "      <td>4</td>\n",
       "      <td>92101</td>\n",
       "      <td>zipcode</td>\n",
       "      <td>All Homes</td>\n",
       "      <td>582800</td>\n",
       "    </tr>\n",
       "    <tr>\n",
       "      <th>5</th>\n",
       "      <td>5</td>\n",
       "      <td>92102</td>\n",
       "      <td>zipcode</td>\n",
       "      <td>All Homes</td>\n",
       "      <td>464400</td>\n",
       "    </tr>\n",
       "    <tr>\n",
       "      <th>6</th>\n",
       "      <td>6</td>\n",
       "      <td>92103</td>\n",
       "      <td>zipcode</td>\n",
       "      <td>All Homes</td>\n",
       "      <td>759200</td>\n",
       "    </tr>\n",
       "    <tr>\n",
       "      <th>7</th>\n",
       "      <td>7</td>\n",
       "      <td>92104</td>\n",
       "      <td>zipcode</td>\n",
       "      <td>All Homes</td>\n",
       "      <td>621000</td>\n",
       "    </tr>\n",
       "  </tbody>\n",
       "</table>\n",
       "</div>"
      ],
      "text/plain": [
       "   Unnamed: 0 San Diego Zip Codes  Zipcode       Type Home Value\n",
       "3           3               92037  zipcode  All Homes    1587800\n",
       "4           4               92101  zipcode  All Homes     582800\n",
       "5           5               92102  zipcode  All Homes     464400\n",
       "6           6               92103  zipcode  All Homes     759200\n",
       "7           7               92104  zipcode  All Homes     621000"
      ]
     },
     "execution_count": 17,
     "metadata": {},
     "output_type": "execute_result"
    }
   ],
   "source": [
    "#import excel file and convert into csv\n",
    "data_xls = pd.read_excel('san-diego-ca.xls', index_col=None)\n",
    "data_xls.to_csv('San Diego.csv')\n",
    "SanDiegoCSV = \"San Diego.csv\"\n",
    "SanDiego = pd.read_csv(SanDiegoCSV)\n",
    "SanDiego\n",
    "\n",
    "#Renaming columns\n",
    "Rename_SanDiego = SanDiego.rename(columns = {\"San Diego, CA - All Homes\":\"San Diego Zip Codes\",\n",
    "                                               \"Unnamed: 1\": \"Zipcode\",\"Unnamed: 2\":\"Type\",\n",
    "                                               \"Unnamed: 3\":\"Home Value\"})\n",
    "\n",
    "#Drop unnecessary columns and rows\n",
    "Drop_SanDiego = Rename_SanDiego.drop(Rename_SanDiego.iloc[:,5:80],axis = 1)\n",
    "Drop_SanDiego = Drop_SanDiego.drop([0,1,2],axis = 0)\n",
    "\n",
    "#Display DF\n",
    "Drop_SanDiego.head()"
   ]
  },
  {
   "cell_type": "code",
   "execution_count": 19,
   "metadata": {},
   "outputs": [
    {
     "data": {
      "image/png": "[encoded data removed]",
      "text/plain": [
       "<Figure size 432x288 with 1 Axes>"
      ]
     },
     "metadata": {
      "needs_background": "light"
     },
     "output_type": "display_data"
    }
   ],
   "source": [
    "x_label = list(Drop_SanDiego[\"San Diego Zip Codes\"])\n",
    "y_label = list(Drop_SanDiego[\"Home Value\"])\n",
    "plt.scatter(x_label, y_label, c=\"steelblue\",edgecolor = \"black\", alpha=0.75)\n",
    "plt.xlabel(\"Zip\")\n",
    "plt.ylabel(\"Home Value\")\n",
    "plt.title(\"Zip vs Home Value\")\n",
    "plt.grid(True)\n",
    "plt.show()"
   ]
  },
  {
   "cell_type": "code",
   "execution_count": 20,
   "metadata": {},
   "outputs": [],
   "source": [
    "Clean_LB = Drop_LongBeach.to_csv(\"Clean Long Beach.csv\")\n",
    "Clean_LA = New_LA.to_csv(\"Clean Los Angeles.csv\")\n",
    "Clean_RS = Drop_Riverside.to_csv(\"Clean Riverside.csv\")\n",
    "Clean_SD = Drop_SanDiego.to_csv(\"Clean San Diego.csv\")"
   ]
  },
  {
   "cell_type": "code",
   "execution_count": null,
   "metadata": {},
   "outputs": [],
   "source": []
  }
 ],
 "metadata": {
  "kernelspec": {
   "display_name": "Python 3",
   "language": "python",
   "name": "python3"
  },
  "language_info": {
   "codemirror_mode": {
    "name": "ipython",
    "version": 3
   },
   "file_extension": ".py",
   "mimetype": "text/x-python",
   "name": "python",
   "nbconvert_exporter": "python",
   "pygments_lexer": "ipython3",
   "version": "3.7.3"
  }
 },
 "nbformat": 4,
 "nbformat_minor": 2
}
