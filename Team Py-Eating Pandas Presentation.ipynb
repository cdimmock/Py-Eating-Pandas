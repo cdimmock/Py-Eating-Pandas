{
 "cells": [
  {
   "cell_type": "markdown",
   "metadata": {},
   "source": [
    "# Team Project Title:\n",
    "Where Should I Live, Will I be There Long?"
   ]
  },
  {
   "cell_type": "markdown",
   "metadata": {},
   "source": [
    "# Project Description/Outline: \n",
    "This project focuses on comparing the average income by zip code, the average home value by zip code, and the probability of being in default based on employment tenure. "
   ]
  },
  {
   "cell_type": "markdown",
   "metadata": {},
   "source": [
    "# Research Questions\n",
    "Does zip code determine default risk?\n",
    "How does income level and tenure in employment affect your housing status?"
   ]
  },
  {
   "cell_type": "markdown",
   "metadata": {},
   "source": [
    "# Hypothesis:\n",
    "\n",
    "Looking at only zip code and the housing value, what is the likelihood of a homeowner will end up in default based on the number of years at current job."
   ]
  },
  {
   "cell_type": "markdown",
   "metadata": {
    "slideshow": {
     "slide_type": "slide"
    }
   },
   "source": [
    "# Employment, Zip Codes, & Home Values...Oh My! \n",
    "* Nehemias Vicente (NV) - Employment & Default Datasets \n",
    "* Carlos Quiroz (CQ) - Zip Code & Income Datsets\n",
    "* Christopher Dimmock (CD) - Home Values Dataset"
   ]
  },
  {
   "cell_type": "markdown",
   "metadata": {
    "slideshow": {
     "slide_type": "slide"
    }
   },
   "source": [
    " ## First We Look At Three Citites and Their Corresponding Zip Codes \n"
   ]
  },
  {
   "cell_type": "markdown",
   "metadata": {
    "slideshow": {
     "slide_type": "slide"
    }
   },
   "source": [
    "## San Diego Data "
   ]
  },
  {
   "cell_type": "code",
   "execution_count": 6,
   "metadata": {
    "slideshow": {
     "slide_type": "skip"
    }
   },
   "outputs": [],
   "source": [
    "# Import Dependencies \n",
    "import matplotlib\n",
    "import matplotlib.pyplot as plt\n",
    "import csv\n",
    "import pandas as pd\n",
    "import os\n",
    "import numpy as np\n"
   ]
  },
  {
   "cell_type": "code",
   "execution_count": 2,
   "metadata": {
    "slideshow": {
     "slide_type": "skip"
    }
   },
   "outputs": [
    {
     "data": {
      "text/html": [
       "<div>\n",
       "<style scoped>\n",
       "    .dataframe tbody tr th:only-of-type {\n",
       "        vertical-align: middle;\n",
       "    }\n",
       "\n",
       "    .dataframe tbody tr th {\n",
       "        vertical-align: top;\n",
       "    }\n",
       "\n",
       "    .dataframe thead th {\n",
       "        text-align: right;\n",
       "    }\n",
       "</style>\n",
       "<table border=\"1\" class=\"dataframe\">\n",
       "  <thead>\n",
       "    <tr style=\"text-align: right;\">\n",
       "      <th></th>\n",
       "      <th>Unnamed: 0</th>\n",
       "      <th>ID</th>\n",
       "      <th>Year</th>\n",
       "      <th>Zip Code</th>\n",
       "      <th>City</th>\n",
       "      <th>Returns</th>\n",
       "      <th>CA AGI</th>\n",
       "      <th>Avg Income</th>\n",
       "    </tr>\n",
       "  </thead>\n",
       "  <tbody>\n",
       "    <tr>\n",
       "      <th>0</th>\n",
       "      <td>0</td>\n",
       "      <td>177</td>\n",
       "      <td>2017</td>\n",
       "      <td>93276</td>\n",
       "      <td>Tupman</td>\n",
       "      <td>54</td>\n",
       "      <td>1,853,226</td>\n",
       "      <td>34319.00</td>\n",
       "    </tr>\n",
       "    <tr>\n",
       "      <th>1</th>\n",
       "      <td>1768</td>\n",
       "      <td>137</td>\n",
       "      <td>2017</td>\n",
       "      <td>91407</td>\n",
       "      <td>Van Nuys</td>\n",
       "      <td>34</td>\n",
       "      <td>1,290,491</td>\n",
       "      <td>37955.62</td>\n",
       "    </tr>\n",
       "    <tr>\n",
       "      <th>2</th>\n",
       "      <td>1770</td>\n",
       "      <td>1315</td>\n",
       "      <td>2017</td>\n",
       "      <td>90045</td>\n",
       "      <td>Los Angeles</td>\n",
       "      <td>18,766</td>\n",
       "      <td>2,074,763,206</td>\n",
       "      <td>110559.69</td>\n",
       "    </tr>\n",
       "    <tr>\n",
       "      <th>3</th>\n",
       "      <td>1771</td>\n",
       "      <td>342</td>\n",
       "      <td>2017</td>\n",
       "      <td>91403</td>\n",
       "      <td>Sherman Oaks</td>\n",
       "      <td>14,265</td>\n",
       "      <td>1,989,124,375</td>\n",
       "      <td>139440.90</td>\n",
       "    </tr>\n",
       "    <tr>\n",
       "      <th>4</th>\n",
       "      <td>1772</td>\n",
       "      <td>1496</td>\n",
       "      <td>2017</td>\n",
       "      <td>95646</td>\n",
       "      <td>Kirkwood</td>\n",
       "      <td>52</td>\n",
       "      <td>2,911,176</td>\n",
       "      <td>55984.15</td>\n",
       "    </tr>\n",
       "  </tbody>\n",
       "</table>\n",
       "</div>"
      ],
      "text/plain": [
       "   Unnamed: 0    ID  Year Zip Code          City Returns         CA AGI  \\\n",
       "0           0   177  2017    93276        Tupman      54      1,853,226   \n",
       "1        1768   137  2017    91407      Van Nuys      34      1,290,491   \n",
       "2        1770  1315  2017    90045   Los Angeles  18,766  2,074,763,206   \n",
       "3        1771   342  2017    91403  Sherman Oaks  14,265  1,989,124,375   \n",
       "4        1772  1496  2017    95646      Kirkwood      52      2,911,176   \n",
       "\n",
       "   Avg Income  \n",
       "0    34319.00  \n",
       "1    37955.62  \n",
       "2   110559.69  \n",
       "3   139440.90  \n",
       "4    55984.15  "
      ]
     },
     "execution_count": 2,
     "metadata": {},
     "output_type": "execute_result"
    }
   ],
   "source": [
    "# import CQ merged zipcode & income csv & read\n",
    "file = 'SoCal Zip Code Income 2017.csv'\n",
    "\n",
    "# read csv\n",
    "sd_income_zipcode_2017 = pd.read_csv('SoCal Zip Code Income 2017.csv') \n",
    "sd_income_zipcode_2017.head()"
   ]
  },
  {
   "cell_type": "code",
   "execution_count": 3,
   "metadata": {},
   "outputs": [
    {
     "data": {
      "text/html": [
       "<div>\n",
       "<style scoped>\n",
       "    .dataframe tbody tr th:only-of-type {\n",
       "        vertical-align: middle;\n",
       "    }\n",
       "\n",
       "    .dataframe tbody tr th {\n",
       "        vertical-align: top;\n",
       "    }\n",
       "\n",
       "    .dataframe thead th {\n",
       "        text-align: right;\n",
       "    }\n",
       "</style>\n",
       "<table border=\"1\" class=\"dataframe\">\n",
       "  <thead>\n",
       "    <tr style=\"text-align: right;\">\n",
       "      <th></th>\n",
       "      <th>Unnamed: 0</th>\n",
       "      <th>ID</th>\n",
       "      <th>Year</th>\n",
       "      <th>Zip Code</th>\n",
       "      <th>City</th>\n",
       "      <th>Returns</th>\n",
       "      <th>CA AGI</th>\n",
       "      <th>Avg Income</th>\n",
       "    </tr>\n",
       "  </thead>\n",
       "  <tbody>\n",
       "    <tr>\n",
       "      <th>27</th>\n",
       "      <td>1753</td>\n",
       "      <td>604</td>\n",
       "      <td>2017</td>\n",
       "      <td>92116</td>\n",
       "      <td>San Diego</td>\n",
       "      <td>18,531</td>\n",
       "      <td>1,285,581,660</td>\n",
       "      <td>69374.65</td>\n",
       "    </tr>\n",
       "    <tr>\n",
       "      <th>268</th>\n",
       "      <td>1871</td>\n",
       "      <td>608</td>\n",
       "      <td>2017</td>\n",
       "      <td>92121</td>\n",
       "      <td>San Diego</td>\n",
       "      <td>2,666</td>\n",
       "      <td>354,980,164</td>\n",
       "      <td>133150.85</td>\n",
       "    </tr>\n",
       "    <tr>\n",
       "      <th>273</th>\n",
       "      <td>1833</td>\n",
       "      <td>597</td>\n",
       "      <td>2017</td>\n",
       "      <td>92109</td>\n",
       "      <td>San Diego</td>\n",
       "      <td>25,525</td>\n",
       "      <td>2,029,368,919</td>\n",
       "      <td>79505.15</td>\n",
       "    </tr>\n",
       "    <tr>\n",
       "      <th>309</th>\n",
       "      <td>1911</td>\n",
       "      <td>593</td>\n",
       "      <td>2017</td>\n",
       "      <td>92105</td>\n",
       "      <td>San Diego</td>\n",
       "      <td>29,334</td>\n",
       "      <td>995,906,200</td>\n",
       "      <td>33950.58</td>\n",
       "    </tr>\n",
       "    <tr>\n",
       "      <th>443</th>\n",
       "      <td>1336</td>\n",
       "      <td>609</td>\n",
       "      <td>2017</td>\n",
       "      <td>92122</td>\n",
       "      <td>San Diego</td>\n",
       "      <td>20,074</td>\n",
       "      <td>1,785,205,615</td>\n",
       "      <td>88931.24</td>\n",
       "    </tr>\n",
       "  </tbody>\n",
       "</table>\n",
       "</div>"
      ],
      "text/plain": [
       "     Unnamed: 0   ID  Year Zip Code       City Returns         CA AGI  \\\n",
       "27         1753  604  2017    92116  San Diego  18,531  1,285,581,660   \n",
       "268        1871  608  2017    92121  San Diego   2,666    354,980,164   \n",
       "273        1833  597  2017    92109  San Diego  25,525  2,029,368,919   \n",
       "309        1911  593  2017    92105  San Diego  29,334    995,906,200   \n",
       "443        1336  609  2017    92122  San Diego  20,074  1,785,205,615   \n",
       "\n",
       "     Avg Income  \n",
       "27     69374.65  \n",
       "268   133150.85  \n",
       "273    79505.15  \n",
       "309    33950.58  \n",
       "443    88931.24  "
      ]
     },
     "execution_count": 3,
     "metadata": {},
     "output_type": "execute_result"
    }
   ],
   "source": [
    "# select San Diego City zip codes \n",
    "sd_subset_zip_inc = sd_income_zipcode_2017[sd_income_zipcode_2017['Zip Code'].isin(['92037', '92101', '92102', '92103', '92104', '92105', '92106', '92107', '92109', '92110', '92111', '92113', '92114', '92115', '92116', '92117', '92119', '92120', '92121', '92122', '92123', '92124', '92126', '92128', '92129', '92130', '92131', '92139', '92173']) ]\n",
    "sd_subset_zip_inc.head()\n"
   ]
  },
  {
   "cell_type": "code",
   "execution_count": null,
   "metadata": {},
   "outputs": [],
   "source": []
  },
  {
   "cell_type": "code",
   "execution_count": null,
   "metadata": {},
   "outputs": [],
   "source": []
  },
  {
   "cell_type": "code",
   "execution_count": null,
   "metadata": {},
   "outputs": [],
   "source": []
  },
  {
   "cell_type": "code",
   "execution_count": null,
   "metadata": {},
   "outputs": [],
   "source": []
  },
  {
   "cell_type": "code",
   "execution_count": null,
   "metadata": {},
   "outputs": [],
   "source": []
  },
  {
   "cell_type": "markdown",
   "metadata": {},
   "source": [
    "# Summary\n",
    "NV Data - COME UP WITH SOMETHING BRIEF & RELEVANT AND I'LL TWEAK IT\n",
    "\n",
    "CQ Data - The mean income per zipcode within the same City region identifies whether or not your neighborhood is affluent, and six-figure income zip codes tend to be the more affluent neighborhoods. Within the same City, which has a shared local government, administration, and resources, your zip code provides an estimate of your yearly income.\n",
    "\n",
    "CD DATA - COME UP WITH SOMETHING BRIEF & RELEVANT AND I'LL TWEAK IT"
   ]
  },
  {
   "cell_type": "code",
   "execution_count": null,
   "metadata": {},
   "outputs": [],
   "source": []
  }
 ],
 "metadata": {
  "celltoolbar": "Slideshow",
  "kernelspec": {
   "display_name": "Python 3",
   "language": "python",
   "name": "python3"
  },
  "language_info": {
   "codemirror_mode": {
    "name": "ipython",
    "version": 3
   },
   "file_extension": ".py",
   "mimetype": "text/x-python",
   "name": "python",
   "nbconvert_exporter": "python",
   "pygments_lexer": "ipython3",
   "version": "3.7.3"
  }
 },
 "nbformat": 4,
 "nbformat_minor": 2
}
