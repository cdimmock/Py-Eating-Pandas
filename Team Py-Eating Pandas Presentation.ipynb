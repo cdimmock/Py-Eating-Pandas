{
 "cells": [
  {
   "cell_type": "markdown",
   "metadata": {
    "slideshow": {
     "slide_type": "slide"
    }
   },
   "source": [
    "# Team Project Title:\n",
    "Where Should I Live, Will I be There Long?"
   ]
  },
  {
   "cell_type": "markdown",
   "metadata": {
    "slideshow": {
     "slide_type": "slide"
    }
   },
   "source": [
    "# Project Description/Outline: \n",
    "This project focuses on comparing the average income by zip code, the average home value by zip code, and the probability of being in default based on employment tenure. "
   ]
  },
  {
   "cell_type": "markdown",
   "metadata": {
    "slideshow": {
     "slide_type": "slide"
    }
   },
   "source": [
    "# Research Questions\n",
    "Does zip code determine default risk?\n",
    "How does income level and tenure in employment affect your housing status?"
   ]
  },
  {
   "cell_type": "markdown",
   "metadata": {},
   "source": [
    "# Hypothesis:\n",
    "\n",
    "Looking at only zip code and the housing value, what is the likelihood of a homeowner will end up in default based on the number of years at current job."
   ]
  },
  {
   "cell_type": "markdown",
   "metadata": {
    "slideshow": {
     "slide_type": "slide"
    }
   },
   "source": [
    "# Employment, Zip Codes, & Home Values...Oh My! \n",
    "* Nehemias Vicente (NV) - Employment & Default Datasets \n",
    "* Carlos Quiroz (CQ) - Zip Code & Income Datsets\n",
    "* Christopher Dimmock (CD) - Home Values Dataset"
   ]
  },
  {
   "cell_type": "markdown",
   "metadata": {
    "slideshow": {
     "slide_type": "slide"
    }
   },
   "source": [
    " ## First We Look At Three Citites and Their Corresponding Zip Codes \n"
   ]
  },
  {
   "cell_type": "markdown",
   "metadata": {
    "slideshow": {
     "slide_type": "slide"
    }
   },
   "source": [
    "## San Diego Data "
   ]
  },
  {
   "cell_type": "code",
   "execution_count": 2,
   "metadata": {
    "slideshow": {
     "slide_type": "skip"
    }
   },
   "outputs": [],
   "source": [
    "# Import Dependencies \n",
    "import matplotlib\n",
    "import matplotlib.pyplot as plt\n",
    "import csv\n",
    "import pandas as pd\n",
    "import os\n",
    "import numpy as np"
   ]
  },
  {
   "cell_type": "code",
   "execution_count": 16,
   "metadata": {
    "slideshow": {
     "slide_type": "skip"
    }
   },
   "outputs": [
    {
     "data": {
      "text/html": [
       "<div>\n",
       "<style scoped>\n",
       "    .dataframe tbody tr th:only-of-type {\n",
       "        vertical-align: middle;\n",
       "    }\n",
       "\n",
       "    .dataframe tbody tr th {\n",
       "        vertical-align: top;\n",
       "    }\n",
       "\n",
       "    .dataframe thead th {\n",
       "        text-align: right;\n",
       "    }\n",
       "</style>\n",
       "<table border=\"1\" class=\"dataframe\">\n",
       "  <thead>\n",
       "    <tr style=\"text-align: right;\">\n",
       "      <th></th>\n",
       "      <th>Unnamed: 0</th>\n",
       "      <th>ID</th>\n",
       "      <th>Year</th>\n",
       "      <th>Zip Code</th>\n",
       "      <th>City</th>\n",
       "      <th>Returns</th>\n",
       "      <th>CA AGI</th>\n",
       "      <th>Avg Income</th>\n",
       "    </tr>\n",
       "  </thead>\n",
       "  <tbody>\n",
       "    <tr>\n",
       "      <th>0</th>\n",
       "      <td>0</td>\n",
       "      <td>177</td>\n",
       "      <td>2017</td>\n",
       "      <td>93276</td>\n",
       "      <td>Tupman</td>\n",
       "      <td>54</td>\n",
       "      <td>1,853,226</td>\n",
       "      <td>34319.00</td>\n",
       "    </tr>\n",
       "    <tr>\n",
       "      <th>1</th>\n",
       "      <td>1768</td>\n",
       "      <td>137</td>\n",
       "      <td>2017</td>\n",
       "      <td>91407</td>\n",
       "      <td>Van Nuys</td>\n",
       "      <td>34</td>\n",
       "      <td>1,290,491</td>\n",
       "      <td>37955.62</td>\n",
       "    </tr>\n",
       "    <tr>\n",
       "      <th>2</th>\n",
       "      <td>1770</td>\n",
       "      <td>1315</td>\n",
       "      <td>2017</td>\n",
       "      <td>90045</td>\n",
       "      <td>Los Angeles</td>\n",
       "      <td>18,766</td>\n",
       "      <td>2,074,763,206</td>\n",
       "      <td>110559.69</td>\n",
       "    </tr>\n",
       "    <tr>\n",
       "      <th>3</th>\n",
       "      <td>1771</td>\n",
       "      <td>342</td>\n",
       "      <td>2017</td>\n",
       "      <td>91403</td>\n",
       "      <td>Sherman Oaks</td>\n",
       "      <td>14,265</td>\n",
       "      <td>1,989,124,375</td>\n",
       "      <td>139440.90</td>\n",
       "    </tr>\n",
       "    <tr>\n",
       "      <th>4</th>\n",
       "      <td>1772</td>\n",
       "      <td>1496</td>\n",
       "      <td>2017</td>\n",
       "      <td>95646</td>\n",
       "      <td>Kirkwood</td>\n",
       "      <td>52</td>\n",
       "      <td>2,911,176</td>\n",
       "      <td>55984.15</td>\n",
       "    </tr>\n",
       "  </tbody>\n",
       "</table>\n",
       "</div>"
      ],
      "text/plain": [
       "   Unnamed: 0    ID  Year Zip Code          City Returns         CA AGI  \\\n",
       "0           0   177  2017    93276        Tupman      54      1,853,226   \n",
       "1        1768   137  2017    91407      Van Nuys      34      1,290,491   \n",
       "2        1770  1315  2017    90045   Los Angeles  18,766  2,074,763,206   \n",
       "3        1771   342  2017    91403  Sherman Oaks  14,265  1,989,124,375   \n",
       "4        1772  1496  2017    95646      Kirkwood      52      2,911,176   \n",
       "\n",
       "   Avg Income  \n",
       "0    34319.00  \n",
       "1    37955.62  \n",
       "2   110559.69  \n",
       "3   139440.90  \n",
       "4    55984.15  "
      ]
     },
     "execution_count": 16,
     "metadata": {},
     "output_type": "execute_result"
    }
   ],
   "source": [
    "# import CQ merged zipcode & income csv & read\n",
    "file = 'SoCal Zip Code Income 2017.csv'\n",
    "\n",
    "# read csv\n",
    "sd_income_zipcode_2017 = pd.read_csv('SoCal Zip Code Income 2017.csv') \n",
    "sd_income_zipcode_2017.head()"
   ]
  },
  {
   "cell_type": "code",
   "execution_count": 17,
   "metadata": {
    "slideshow": {
     "slide_type": "slide"
    }
   },
   "outputs": [
    {
     "name": "stderr",
     "output_type": "stream",
     "text": [
      "/anaconda3/lib/python3.7/site-packages/pandas/core/frame.py:3940: SettingWithCopyWarning: \n",
      "A value is trying to be set on a copy of a slice from a DataFrame\n",
      "\n",
      "See the caveats in the documentation: http://pandas.pydata.org/pandas-docs/stable/indexing.html#indexing-view-versus-copy\n",
      "  errors=errors)\n"
     ]
    },
    {
     "data": {
      "text/html": [
       "<div>\n",
       "<style scoped>\n",
       "    .dataframe tbody tr th:only-of-type {\n",
       "        vertical-align: middle;\n",
       "    }\n",
       "\n",
       "    .dataframe tbody tr th {\n",
       "        vertical-align: top;\n",
       "    }\n",
       "\n",
       "    .dataframe thead th {\n",
       "        text-align: right;\n",
       "    }\n",
       "</style>\n",
       "<table border=\"1\" class=\"dataframe\">\n",
       "  <thead>\n",
       "    <tr style=\"text-align: right;\">\n",
       "      <th></th>\n",
       "      <th>ID</th>\n",
       "      <th>Year</th>\n",
       "      <th>Zip Code</th>\n",
       "      <th>City</th>\n",
       "      <th>Returns</th>\n",
       "      <th>CA AGI</th>\n",
       "      <th>Avg Income</th>\n",
       "    </tr>\n",
       "  </thead>\n",
       "  <tbody>\n",
       "    <tr>\n",
       "      <th>27</th>\n",
       "      <td>604</td>\n",
       "      <td>2017</td>\n",
       "      <td>92116</td>\n",
       "      <td>San Diego</td>\n",
       "      <td>18,531</td>\n",
       "      <td>1,285,581,660</td>\n",
       "      <td>69374.65</td>\n",
       "    </tr>\n",
       "    <tr>\n",
       "      <th>268</th>\n",
       "      <td>608</td>\n",
       "      <td>2017</td>\n",
       "      <td>92121</td>\n",
       "      <td>San Diego</td>\n",
       "      <td>2,666</td>\n",
       "      <td>354,980,164</td>\n",
       "      <td>133150.85</td>\n",
       "    </tr>\n",
       "    <tr>\n",
       "      <th>273</th>\n",
       "      <td>597</td>\n",
       "      <td>2017</td>\n",
       "      <td>92109</td>\n",
       "      <td>San Diego</td>\n",
       "      <td>25,525</td>\n",
       "      <td>2,029,368,919</td>\n",
       "      <td>79505.15</td>\n",
       "    </tr>\n",
       "    <tr>\n",
       "      <th>309</th>\n",
       "      <td>593</td>\n",
       "      <td>2017</td>\n",
       "      <td>92105</td>\n",
       "      <td>San Diego</td>\n",
       "      <td>29,334</td>\n",
       "      <td>995,906,200</td>\n",
       "      <td>33950.58</td>\n",
       "    </tr>\n",
       "    <tr>\n",
       "      <th>443</th>\n",
       "      <td>609</td>\n",
       "      <td>2017</td>\n",
       "      <td>92122</td>\n",
       "      <td>San Diego</td>\n",
       "      <td>20,074</td>\n",
       "      <td>1,785,205,615</td>\n",
       "      <td>88931.24</td>\n",
       "    </tr>\n",
       "  </tbody>\n",
       "</table>\n",
       "</div>"
      ],
      "text/plain": [
       "      ID  Year Zip Code       City Returns         CA AGI  Avg Income\n",
       "27   604  2017    92116  San Diego  18,531  1,285,581,660    69374.65\n",
       "268  608  2017    92121  San Diego   2,666    354,980,164   133150.85\n",
       "273  597  2017    92109  San Diego  25,525  2,029,368,919    79505.15\n",
       "309  593  2017    92105  San Diego  29,334    995,906,200    33950.58\n",
       "443  609  2017    92122  San Diego  20,074  1,785,205,615    88931.24"
      ]
     },
     "execution_count": 17,
     "metadata": {},
     "output_type": "execute_result"
    }
   ],
   "source": [
    "# select San Diego City zip codes \n",
    "sd_subset_zip_inc = sd_income_zipcode_2017[sd_income_zipcode_2017['Zip Code'].isin(['92037', '92101', '92102', '92103', '92104', '92105', '92106', '92107', '92109', '92110', '92111', '92113', '92114', '92115', '92116', '92117', '92119', '92120', '92121', '92122', '92123', '92124', '92126', '92128', '92129', '92130', '92131', '92139', '92173']) ]\n",
    "sd_subset_zip_inc.drop = sd_subset_zip_inc.drop('Unnamed: 0', axis = 1, inplace=True)\n",
    "sd_subset_zip_inc.head()\n"
   ]
  },
  {
   "cell_type": "code",
   "execution_count": 18,
   "metadata": {
    "slideshow": {
     "slide_type": "skip"
    }
   },
   "outputs": [],
   "source": [
    "# export 2017 mean income for San Diego zip codes to csv files\n",
    "sd_subset_zip_inc.to_csv(\"San Diego Zip Codes Income 2017.csv\")\n",
    "# Set x axis and tick locations\n",
    "x_axis = np.arange(len(sd_subset_zip_inc))\n",
    "tick_locations = [value for value in x_axis]"
   ]
  },
  {
   "cell_type": "code",
   "execution_count": 19,
   "metadata": {
    "slideshow": {
     "slide_type": "slide"
    }
   },
   "outputs": [
    {
     "data": {
      "image/png": "[encoded data removed]",
      "text/plain": [
       "<Figure size 576x360 with 1 Axes>"
      ]
     },
     "metadata": {
      "needs_background": "light"
     },
     "output_type": "display_data"
    }
   ],
   "source": [
    "# Create a list indicating where to write x labels and set figure size to adjust for space\n",
    "plt.figure(figsize=(8,5))\n",
    "plt.bar(x_axis, sd_subset_zip_inc[\"Avg Income\"], color='g', alpha=1.0, align=\"center\")\n",
    "plt.xticks(tick_locations, sd_subset_zip_inc[\"Zip Code\"], rotation=\"vertical\")\n",
    "\n",
    "# Set a Title and labels\n",
    "plt.title(\"San Diego Average Income per Zip Code\")\n",
    "plt.xlabel(\"Zip Code\")\n",
    "plt.ylabel(\"Average Income\")\n",
    "\n",
    "# Save our graph and show the grap\n",
    "plt.tight_layout()\n",
    "plt.savefig(\"San_Diego_Beach_avg_zip_inc.png\")\n",
    "plt.show()"
   ]
  },
  {
   "cell_type": "markdown",
   "metadata": {
    "slideshow": {
     "slide_type": "slide"
    }
   },
   "source": [
    "## Long Beach Data"
   ]
  },
  {
   "cell_type": "code",
   "execution_count": 20,
   "metadata": {
    "slideshow": {
     "slide_type": "skip"
    }
   },
   "outputs": [],
   "source": [
    "# import csv & read\n",
    "file = 'SoCal Zip Code Income 2017.csv'\n",
    "\n",
    "# read csv\n",
    "income_zipcode_2017 = pd.read_csv('SoCal Zip Code Income 2017.csv') "
   ]
  },
  {
   "cell_type": "code",
   "execution_count": 21,
   "metadata": {
    "slideshow": {
     "slide_type": "slide"
    }
   },
   "outputs": [
    {
     "data": {
      "text/html": [
       "<div>\n",
       "<style scoped>\n",
       "    .dataframe tbody tr th:only-of-type {\n",
       "        vertical-align: middle;\n",
       "    }\n",
       "\n",
       "    .dataframe tbody tr th {\n",
       "        vertical-align: top;\n",
       "    }\n",
       "\n",
       "    .dataframe thead th {\n",
       "        text-align: right;\n",
       "    }\n",
       "</style>\n",
       "<table border=\"1\" class=\"dataframe\">\n",
       "  <thead>\n",
       "    <tr style=\"text-align: right;\">\n",
       "      <th></th>\n",
       "      <th>ID</th>\n",
       "      <th>Year</th>\n",
       "      <th>Zip Code</th>\n",
       "      <th>City</th>\n",
       "      <th>Returns</th>\n",
       "      <th>CA AGI</th>\n",
       "      <th>Avg Income</th>\n",
       "    </tr>\n",
       "  </thead>\n",
       "  <tbody>\n",
       "    <tr>\n",
       "      <th>274</th>\n",
       "      <td>1379</td>\n",
       "      <td>2017</td>\n",
       "      <td>90815</td>\n",
       "      <td>Long Beach</td>\n",
       "      <td>19,480</td>\n",
       "      <td>1,725,210,740</td>\n",
       "      <td>88563.18</td>\n",
       "    </tr>\n",
       "    <tr>\n",
       "      <th>322</th>\n",
       "      <td>1368</td>\n",
       "      <td>2017</td>\n",
       "      <td>90802</td>\n",
       "      <td>Long Beach</td>\n",
       "      <td>20,003</td>\n",
       "      <td>1,128,446,514</td>\n",
       "      <td>56413.86</td>\n",
       "    </tr>\n",
       "    <tr>\n",
       "      <th>401</th>\n",
       "      <td>1369</td>\n",
       "      <td>2017</td>\n",
       "      <td>90803</td>\n",
       "      <td>Long Beach</td>\n",
       "      <td>18,095</td>\n",
       "      <td>2,207,927,407</td>\n",
       "      <td>122018.65</td>\n",
       "    </tr>\n",
       "    <tr>\n",
       "      <th>659</th>\n",
       "      <td>1373</td>\n",
       "      <td>2017</td>\n",
       "      <td>90807</td>\n",
       "      <td>Long Beach</td>\n",
       "      <td>16,474</td>\n",
       "      <td>1,386,576,665</td>\n",
       "      <td>84167.58</td>\n",
       "    </tr>\n",
       "    <tr>\n",
       "      <th>1347</th>\n",
       "      <td>1378</td>\n",
       "      <td>2017</td>\n",
       "      <td>90814</td>\n",
       "      <td>Long Beach</td>\n",
       "      <td>10,291</td>\n",
       "      <td>853,150,536</td>\n",
       "      <td>82902.59</td>\n",
       "    </tr>\n",
       "  </tbody>\n",
       "</table>\n",
       "</div>"
      ],
      "text/plain": [
       "        ID  Year Zip Code        City Returns         CA AGI  Avg Income\n",
       "274   1379  2017    90815  Long Beach  19,480  1,725,210,740    88563.18\n",
       "322   1368  2017    90802  Long Beach  20,003  1,128,446,514    56413.86\n",
       "401   1369  2017    90803  Long Beach  18,095  2,207,927,407   122018.65\n",
       "659   1373  2017    90807  Long Beach  16,474  1,386,576,665    84167.58\n",
       "1347  1378  2017    90814  Long Beach  10,291    853,150,536    82902.59"
      ]
     },
     "execution_count": 21,
     "metadata": {},
     "output_type": "execute_result"
    }
   ],
   "source": [
    "# select Long Beach City zip codes\n",
    "subset_zip_inc = income_zipcode_2017[income_zipcode_2017['Zip Code'].isin(['90802', '90803', '90804', '90805', '90806', '90807', '90808', '90809', '90810', '90813', '90814', '90815']) ]\n",
    "subset_zip_inc.drop = subset_zip_inc.drop('Unnamed: 0', axis = 1, inplace=True)\n",
    "subset_zip_inc.head()\n"
   ]
  },
  {
   "cell_type": "code",
   "execution_count": 22,
   "metadata": {
    "slideshow": {
     "slide_type": "skip"
    }
   },
   "outputs": [],
   "source": [
    "# export 2017 mean income for San Diego zips to csv files\n",
    "long_beach_zip_inc_2017 = pd.read_csv(\"Long Beach Zip Codes Income 2017.csv\")\n",
    "# Set x axis and tick locations\n",
    "x_axis = np.arange(len(long_beach_zip_inc_2017))\n",
    "tick_locations = [value for value in x_axis]"
   ]
  },
  {
   "cell_type": "code",
   "execution_count": 23,
   "metadata": {
    "slideshow": {
     "slide_type": "slide"
    }
   },
   "outputs": [
    {
     "data": {
      "image/png": "[encoded data removed]",
      "text/plain": [
       "<Figure size 576x360 with 1 Axes>"
      ]
     },
     "metadata": {
      "needs_background": "light"
     },
     "output_type": "display_data"
    }
   ],
   "source": [
    "# Create a list indicating where to write x labels and set figure size to adjust for space\n",
    "plt.figure(figsize=(8,5))\n",
    "plt.bar(x_axis, long_beach_zip_inc_2017[\"Avg Income\"], color='g', alpha=1.0, align=\"center\")\n",
    "plt.xticks(tick_locations, long_beach_zip_inc_2017[\"Zip Code\"], rotation=\"vertical\")\n",
    "\n",
    "# Set a Title and labels\n",
    "plt.title(\"Long Beach Average Income per Zip Code\")\n",
    "plt.xlabel(\"Zip Code\")\n",
    "plt.ylabel(\"Average Income\")\n",
    "\n",
    "# Save our graph and show the grap\n",
    "plt.tight_layout()\n",
    "plt.savefig(\"Long_Beach_avg_zip_inc.png\")\n",
    "plt.show()"
   ]
  },
  {
   "cell_type": "markdown",
   "metadata": {
    "slideshow": {
     "slide_type": "slide"
    }
   },
   "source": [
    "## Riverside Data"
   ]
  },
  {
   "cell_type": "code",
   "execution_count": 24,
   "metadata": {
    "slideshow": {
     "slide_type": "skip"
    }
   },
   "outputs": [],
   "source": [
    "# import csv & read\n",
    "file = 'SoCal Zip Code Income 2017.csv'\n",
    "# read csv\n",
    "income_zipcode_2017 = pd.read_csv('SoCal Zip Code Income 2017.csv') "
   ]
  },
  {
   "cell_type": "code",
   "execution_count": 25,
   "metadata": {
    "slideshow": {
     "slide_type": "slide"
    }
   },
   "outputs": [
    {
     "data": {
      "text/html": [
       "<div>\n",
       "<style scoped>\n",
       "    .dataframe tbody tr th:only-of-type {\n",
       "        vertical-align: middle;\n",
       "    }\n",
       "\n",
       "    .dataframe tbody tr th {\n",
       "        vertical-align: top;\n",
       "    }\n",
       "\n",
       "    .dataframe thead th {\n",
       "        text-align: right;\n",
       "    }\n",
       "</style>\n",
       "<table border=\"1\" class=\"dataframe\">\n",
       "  <thead>\n",
       "    <tr style=\"text-align: right;\">\n",
       "      <th></th>\n",
       "      <th>ID</th>\n",
       "      <th>Year</th>\n",
       "      <th>Zip Code</th>\n",
       "      <th>City</th>\n",
       "      <th>Returns</th>\n",
       "      <th>CA AGI</th>\n",
       "      <th>Avg Income</th>\n",
       "    </tr>\n",
       "  </thead>\n",
       "  <tbody>\n",
       "    <tr>\n",
       "      <th>152</th>\n",
       "      <td>753</td>\n",
       "      <td>2017</td>\n",
       "      <td>92501</td>\n",
       "      <td>Riverside</td>\n",
       "      <td>8,874</td>\n",
       "      <td>400,450,078</td>\n",
       "      <td>45126.22</td>\n",
       "    </tr>\n",
       "    <tr>\n",
       "      <th>302</th>\n",
       "      <td>756</td>\n",
       "      <td>2017</td>\n",
       "      <td>92504</td>\n",
       "      <td>Riverside</td>\n",
       "      <td>23,553</td>\n",
       "      <td>1,208,818,841</td>\n",
       "      <td>51323.35</td>\n",
       "    </tr>\n",
       "    <tr>\n",
       "      <th>417</th>\n",
       "      <td>755</td>\n",
       "      <td>2017</td>\n",
       "      <td>92503</td>\n",
       "      <td>Riverside</td>\n",
       "      <td>37,973</td>\n",
       "      <td>1,974,408,813</td>\n",
       "      <td>51995.07</td>\n",
       "    </tr>\n",
       "    <tr>\n",
       "      <th>536</th>\n",
       "      <td>760</td>\n",
       "      <td>2017</td>\n",
       "      <td>92508</td>\n",
       "      <td>Riverside</td>\n",
       "      <td>15,061</td>\n",
       "      <td>1,138,990,019</td>\n",
       "      <td>75625.13</td>\n",
       "    </tr>\n",
       "    <tr>\n",
       "      <th>1428</th>\n",
       "      <td>757</td>\n",
       "      <td>2017</td>\n",
       "      <td>92505</td>\n",
       "      <td>Riverside</td>\n",
       "      <td>21,308</td>\n",
       "      <td>956,372,407</td>\n",
       "      <td>44883.26</td>\n",
       "    </tr>\n",
       "  </tbody>\n",
       "</table>\n",
       "</div>"
      ],
      "text/plain": [
       "       ID  Year Zip Code       City Returns         CA AGI  Avg Income\n",
       "152   753  2017    92501  Riverside   8,874    400,450,078    45126.22\n",
       "302   756  2017    92504  Riverside  23,553  1,208,818,841    51323.35\n",
       "417   755  2017    92503  Riverside  37,973  1,974,408,813    51995.07\n",
       "536   760  2017    92508  Riverside  15,061  1,138,990,019    75625.13\n",
       "1428  757  2017    92505  Riverside  21,308    956,372,407    44883.26"
      ]
     },
     "execution_count": 25,
     "metadata": {},
     "output_type": "execute_result"
    }
   ],
   "source": [
    "subset_zip_inc = income_zipcode_2017[income_zipcode_2017['Zip Code'].isin(['92501', '92503', '92504', '92505', '92506', '92507', '92508']) ]\n",
    "subset_zip_inc.drop = subset_zip_inc.drop('Unnamed: 0', axis = 1, inplace=True)\n",
    "subset_zip_inc.head()\n"
   ]
  },
  {
   "cell_type": "code",
   "execution_count": 26,
   "metadata": {
    "slideshow": {
     "slide_type": "skip"
    }
   },
   "outputs": [],
   "source": [
    "# export 2017 mean income for Riverside zips to csv files\n",
    "subset_zip_inc.to_csv(\"Riverside Zip Codes Income 2017.csv\")\n",
    "# Load in csv\n",
    "riverside_zips_inc = pd.read_csv(\"Riverside Zip Codes Income 2017.csv\")\n",
    "# Set x axis and tick locations\n",
    "x_axis = np.arange(len(riverside_zips_inc))\n",
    "tick_locations = [value for value in x_axis]"
   ]
  },
  {
   "cell_type": "code",
   "execution_count": 27,
   "metadata": {
    "slideshow": {
     "slide_type": "slide"
    }
   },
   "outputs": [
    {
     "data": {
      "image/png": "[encoded data removed]",
      "text/plain": [
       "<Figure size 576x360 with 1 Axes>"
      ]
     },
     "metadata": {
      "needs_background": "light"
     },
     "output_type": "display_data"
    }
   ],
   "source": [
    "# Create a list indicating where to write x labels and set figure size to adjust for space\n",
    "plt.figure(figsize=(8,5))\n",
    "plt.bar(x_axis, riverside_zips_inc[\"Avg Income\"], color='r', alpha=1.0, align=\"center\")\n",
    "plt.xticks(tick_locations, riverside_zips_inc[\"Zip Code\"], rotation=\"vertical\")\n",
    "\n",
    "# Set x and y limits\n",
    "#plt.xlim(0, len(x_axis))\n",
    "#plt.ylim(0, max(riverside_zips_inc[\"Avg Income\"])+20000)\n",
    "\n",
    "# Set a Title and labels\n",
    "plt.title(\"Riverside Average Income per Zip Code\")\n",
    "plt.xlabel(\"Zip Code\")\n",
    "plt.ylabel(\"Average Income\")\n",
    "\n",
    "# Save our graph and show the grap\n",
    "plt.tight_layout()\n",
    "plt.savefig(\"Riverside_avg_zip_inc.png\")\n",
    "plt.show()"
   ]
  },
  {
   "cell_type": "markdown",
   "metadata": {
    "slideshow": {
     "slide_type": "slide"
    }
   },
   "source": [
    "# Now Lets Look At Default Probability"
   ]
  },
  {
   "cell_type": "markdown",
   "metadata": {
    "slideshow": {
     "slide_type": "slide"
    }
   },
   "source": [
    "## San Diego"
   ]
  },
  {
   "cell_type": "code",
   "execution_count": 11,
   "metadata": {
    "slideshow": {
     "slide_type": "skip"
    }
   },
   "outputs": [
    {
     "name": "stderr",
     "output_type": "stream",
     "text": [
      "/anaconda3/lib/python3.7/site-packages/ipykernel_launcher.py:9: FutureWarning: convert_objects is deprecated.  To re-infer data dtypes for object columns, use DataFrame.infer_objects()\n",
      "For all other conversions use the data-type specific converters pd.to_datetime, pd.to_timedelta and pd.to_numeric.\n",
      "  if __name__ == '__main__':\n"
     ]
    }
   ],
   "source": [
    "#Import Default Data\n",
    "File1 = \"Clean Default.csv\"\n",
    "Default_info = pd.read_csv(File1)\n",
    "#Import cleaned up San Diego csv\n",
    "File3 = \"Clean San Diego.csv\"\n",
    "SD_info = pd.read_csv(File3)\n",
    "#Drop columns\n",
    "SD_info = SD_info.drop(columns = [\"Unnamed: 0\",\"Unnamed: 0.1\",\"Zipcode\",\"Type\"],axis = 1)\n",
    "SD_info = SD_info.convert_objects(convert_numeric=True)\n",
    "#Change Zip codes type\n",
    "SD_info['San Diego Zip Codes'] = SD_info['San Diego Zip Codes'].astype(np.float64)\n",
    "SD_info = SD_info.sort_values(\"Home Value\",ascending = True)"
   ]
  },
  {
   "cell_type": "code",
   "execution_count": 12,
   "metadata": {
    "slideshow": {
     "slide_type": "slide"
    }
   },
   "outputs": [
    {
     "data": {
      "text/html": [
       "<div>\n",
       "<style scoped>\n",
       "    .dataframe tbody tr th:only-of-type {\n",
       "        vertical-align: middle;\n",
       "    }\n",
       "\n",
       "    .dataframe tbody tr th {\n",
       "        vertical-align: top;\n",
       "    }\n",
       "\n",
       "    .dataframe thead th {\n",
       "        text-align: right;\n",
       "    }\n",
       "</style>\n",
       "<table border=\"1\" class=\"dataframe\">\n",
       "  <thead>\n",
       "    <tr style=\"text-align: right;\">\n",
       "      <th></th>\n",
       "      <th>San Diego Zip Codes</th>\n",
       "      <th>Home Value</th>\n",
       "    </tr>\n",
       "  </thead>\n",
       "  <tbody>\n",
       "    <tr>\n",
       "      <th>8</th>\n",
       "      <td>92108.0</td>\n",
       "      <td>403400</td>\n",
       "    </tr>\n",
       "    <tr>\n",
       "      <th>12</th>\n",
       "      <td>92113.0</td>\n",
       "      <td>408900</td>\n",
       "    </tr>\n",
       "    <tr>\n",
       "      <th>5</th>\n",
       "      <td>92105.0</td>\n",
       "      <td>437600</td>\n",
       "    </tr>\n",
       "    <tr>\n",
       "      <th>31</th>\n",
       "      <td>92173.0</td>\n",
       "      <td>451500</td>\n",
       "    </tr>\n",
       "    <tr>\n",
       "      <th>29</th>\n",
       "      <td>92139.0</td>\n",
       "      <td>456000</td>\n",
       "    </tr>\n",
       "  </tbody>\n",
       "</table>\n",
       "</div>"
      ],
      "text/plain": [
       "    San Diego Zip Codes  Home Value\n",
       "8               92108.0      403400\n",
       "12              92113.0      408900\n",
       "5               92105.0      437600\n",
       "31              92173.0      451500\n",
       "29              92139.0      456000"
      ]
     },
     "execution_count": 12,
     "metadata": {},
     "output_type": "execute_result"
    }
   ],
   "source": [
    "#San Diego Zip Codes and Home Values\n",
    "SD_info.head()"
   ]
  },
  {
   "cell_type": "code",
   "execution_count": 13,
   "metadata": {
    "slideshow": {
     "slide_type": "skip"
    }
   },
   "outputs": [],
   "source": [
    "#Convert the column Home Value from the LB Dataframe to list\n",
    "Home_Value = [30000,70000,400000,1000000]\n",
    "\n",
    "#Create empty list to store values\n",
    "Total_list= [];\n",
    "Default_list = [];\n",
    "Not_Default_list = [];\n",
    "\n",
    "#Run a for loop to see all Default table that are less than the current House value i  \n",
    "for i in Home_Value:\n",
    "    Tabless = Default_info[Default_info[\"Home Value\"] < i]\n",
    "    #The following are conditions and can be changed for each city\n",
    "    Tabless = Tabless[Tabless[\"Years at Job\"] <= 2]\n",
    "    Tabless = Tabless[Tabless[\"Mortgage Due\"] <= 70000]\n",
    "    Tabless = Tabless[Tabless[\"Loan Total\"] <= 200000]\n",
    "    Total = Tabless['BAD'].count()\n",
    "    Default = (Tabless['BAD'] == 1).sum()\n",
    "    Not_Default = (Tabless['BAD'] == 0).sum()\n",
    "    Total_list.append(Total)\n",
    "    Default_list.append(Default)\n",
    "    Not_Default_list.append(Not_Default)\n",
    "     \n",
    "\n",
    "#Making a DataFrame from the list we were able to obtain \n",
    "Numbers = pd.Series(Home_Value)\n",
    "df = pd.DataFrame({\"Total Count of Default & Not Default\": Total_list, \"Sum of Default\": Default_list,\"Sum of Not Default\":Not_Default_list})\n",
    "df = df.set_index(Numbers)\n",
    "df = df.drop_duplicates('Sum of Default')"
   ]
  },
  {
   "cell_type": "code",
   "execution_count": 14,
   "metadata": {
    "slideshow": {
     "slide_type": "slide"
    }
   },
   "outputs": [
    {
     "data": {
      "text/plain": [
       "<matplotlib.legend.Legend at 0x116a96ef0>"
      ]
     },
     "execution_count": 14,
     "metadata": {},
     "output_type": "execute_result"
    },
    {
     "data": {
      "image/png": "[encoded data removed]",
      "text/plain": [
       "<Figure size 432x288 with 1 Axes>"
      ]
     },
     "metadata": {
      "needs_background": "light"
     },
     "output_type": "display_data"
    }
   ],
   "source": [
    "#Calculate the percentages of Default and Not Default\n",
    "percent_default =(df[\"Sum of Default\"]/df[\"Total Count of Default & Not Default\"]*100).tolist()\n",
    "percent_not_default = (df[\"Sum of Not Default\"]/df[\"Total Count of Default & Not Default\"]*100).tolist()\n",
    "\n",
    "#Plot the percentages\n",
    "ind = np.arange(len(percent_default))\n",
    "width = 0.35\n",
    "fig, ax = plt.subplots()\n",
    "rects1 = ax.bar(ind - width/2, percent_default, width,label= \"Default\")\n",
    "rects2 = ax.bar(ind + width/2, percent_not_default, width, label= \"Paid\")\n",
    "ax.set_xlabel('Home Value')\n",
    "ax.set_ylabel('Percentage %')\n",
    "ax.set_title('Percentage vs San Diego Home Value')\n",
    "ax.set_xticks(ind)\n",
    "ax.set_xticklabels(('$30k','$70k','$400k','$1mil'))\n",
    "ax.legend()"
   ]
  },
  {
   "cell_type": "markdown",
   "metadata": {
    "slideshow": {
     "slide_type": "slide"
    }
   },
   "source": [
    "## Long Beach"
   ]
  },
  {
   "cell_type": "code",
   "execution_count": 7,
   "metadata": {
    "slideshow": {
     "slide_type": "skip"
    }
   },
   "outputs": [
    {
     "name": "stderr",
     "output_type": "stream",
     "text": [
      "/anaconda3/lib/python3.7/site-packages/ipykernel_launcher.py:12: FutureWarning: convert_objects is deprecated.  To re-infer data dtypes for object columns, use DataFrame.infer_objects()\n",
      "For all other conversions use the data-type specific converters pd.to_datetime, pd.to_timedelta and pd.to_numeric.\n",
      "  if sys.path[0] == '':\n"
     ]
    }
   ],
   "source": [
    "#Import cleaned up Default Data \n",
    "Default = \"Clean Default.csv\"\n",
    "Default_info = pd.read_csv(Default)\n",
    "#Import the cleaned up Long Beach csv\n",
    "File2 = \"Clean Long Beach.csv\"\n",
    "LB_info = pd.read_csv(File2)\n",
    "\n",
    "#Drop unnecessary columns \n",
    "LB_info = LB_info.drop(columns = [\"Unnamed: 0\",\"Unnamed: 0.1\",\"Zipcode\",\"Type\"],axis = 1)\n",
    "\n",
    "#Convert the column that are 'object' type to 'float' type\n",
    "LB_info = LB_info.convert_objects(convert_numeric=True)\n",
    "LB_info['Long Beach Zip Code'] = LB_info['Long Beach Zip Code'].astype(np.float64)\n",
    "\n",
    "#Sort the Long Beach dataframe by ascending Home Value\n",
    "LB_info = LB_info.sort_values(\"Home Value\",ascending = True)"
   ]
  },
  {
   "cell_type": "code",
   "execution_count": 8,
   "metadata": {
    "slideshow": {
     "slide_type": "slide"
    }
   },
   "outputs": [
    {
     "data": {
      "text/html": [
       "<div>\n",
       "<style scoped>\n",
       "    .dataframe tbody tr th:only-of-type {\n",
       "        vertical-align: middle;\n",
       "    }\n",
       "\n",
       "    .dataframe tbody tr th {\n",
       "        vertical-align: top;\n",
       "    }\n",
       "\n",
       "    .dataframe thead th {\n",
       "        text-align: right;\n",
       "    }\n",
       "</style>\n",
       "<table border=\"1\" class=\"dataframe\">\n",
       "  <thead>\n",
       "    <tr style=\"text-align: right;\">\n",
       "      <th></th>\n",
       "      <th>Long Beach Zip Code</th>\n",
       "      <th>Home Value</th>\n",
       "    </tr>\n",
       "  </thead>\n",
       "  <tbody>\n",
       "    <tr>\n",
       "      <th>0</th>\n",
       "      <td>90802.0</td>\n",
       "      <td>378200.0</td>\n",
       "    </tr>\n",
       "    <tr>\n",
       "      <th>9</th>\n",
       "      <td>90813.0</td>\n",
       "      <td>396200.0</td>\n",
       "    </tr>\n",
       "    <tr>\n",
       "      <th>3</th>\n",
       "      <td>90805.0</td>\n",
       "      <td>466700.0</td>\n",
       "    </tr>\n",
       "    <tr>\n",
       "      <th>8</th>\n",
       "      <td>90810.0</td>\n",
       "      <td>477400.0</td>\n",
       "    </tr>\n",
       "    <tr>\n",
       "      <th>2</th>\n",
       "      <td>90804.0</td>\n",
       "      <td>491300.0</td>\n",
       "    </tr>\n",
       "    <tr>\n",
       "      <th>4</th>\n",
       "      <td>90806.0</td>\n",
       "      <td>535500.0</td>\n",
       "    </tr>\n",
       "    <tr>\n",
       "      <th>5</th>\n",
       "      <td>90807.0</td>\n",
       "      <td>639100.0</td>\n",
       "    </tr>\n",
       "    <tr>\n",
       "      <th>6</th>\n",
       "      <td>90808.0</td>\n",
       "      <td>685500.0</td>\n",
       "    </tr>\n",
       "    <tr>\n",
       "      <th>11</th>\n",
       "      <td>90815.0</td>\n",
       "      <td>697200.0</td>\n",
       "    </tr>\n",
       "    <tr>\n",
       "      <th>10</th>\n",
       "      <td>90814.0</td>\n",
       "      <td>750600.0</td>\n",
       "    </tr>\n",
       "    <tr>\n",
       "      <th>1</th>\n",
       "      <td>90803.0</td>\n",
       "      <td>985300.0</td>\n",
       "    </tr>\n",
       "    <tr>\n",
       "      <th>7</th>\n",
       "      <td>90809.0</td>\n",
       "      <td>NaN</td>\n",
       "    </tr>\n",
       "  </tbody>\n",
       "</table>\n",
       "</div>"
      ],
      "text/plain": [
       "    Long Beach Zip Code  Home Value\n",
       "0               90802.0    378200.0\n",
       "9               90813.0    396200.0\n",
       "3               90805.0    466700.0\n",
       "8               90810.0    477400.0\n",
       "2               90804.0    491300.0\n",
       "4               90806.0    535500.0\n",
       "5               90807.0    639100.0\n",
       "6               90808.0    685500.0\n",
       "11              90815.0    697200.0\n",
       "10              90814.0    750600.0\n",
       "1               90803.0    985300.0\n",
       "7               90809.0         NaN"
      ]
     },
     "execution_count": 8,
     "metadata": {},
     "output_type": "execute_result"
    }
   ],
   "source": [
    "LB_info"
   ]
  },
  {
   "cell_type": "code",
   "execution_count": 9,
   "metadata": {
    "slideshow": {
     "slide_type": "skip"
    }
   },
   "outputs": [],
   "source": [
    "#Convert the column Home Value from the LB Dataframe to list\n",
    "Home_Value = [10000,50000,100000,500000]\n",
    "\n",
    "#Create empty list to store values\n",
    "Total_list= [];\n",
    "Default_list = [];\n",
    "Not_Default_list = [];\n",
    "\n",
    "#Run a for loop to see all Default table that are less than the current House value i  \n",
    "for i in Home_Value:\n",
    "    Tabless = Default_info[Default_info[\"Home Value\"] < i]\n",
    "    #The following are conditions and can be changed for each city\n",
    "    Tabless = Tabless[Tabless[\"Years at Job\"] <= 10]\n",
    "    Tabless = Tabless[Tabless[\"Mortgage Due\"] <= 10000]\n",
    "    Tabless = Tabless[Tabless[\"Loan Total\"] <= 10000]\n",
    "    Total = Tabless['BAD'].count()\n",
    "    Default = (Tabless['BAD'] == 1).sum()\n",
    "    Not_Default = (Tabless['BAD'] == 0).sum()\n",
    "    Total_list.append(Total)\n",
    "    Default_list.append(Default)\n",
    "    Not_Default_list.append(Not_Default)\n",
    "     \n",
    "\n",
    "#Making a DataFrame from the list we were able to obtain \n",
    "Numbers = pd.Series(Home_Value)\n",
    "df = pd.DataFrame({\"Total Count of Default & Not Default\": Total_list, \"Sum of Default\": Default_list,\"Sum of Not Default\":Not_Default_list})\n",
    "df = df.set_index(Numbers)\n",
    "df = df.drop_duplicates('Sum of Default')"
   ]
  },
  {
   "cell_type": "code",
   "execution_count": 10,
   "metadata": {
    "slideshow": {
     "slide_type": "slide"
    }
   },
   "outputs": [
    {
     "data": {
      "text/plain": [
       "<matplotlib.legend.Legend at 0x116770470>"
      ]
     },
     "execution_count": 10,
     "metadata": {},
     "output_type": "execute_result"
    },
    {
     "data": {
      "image/png": "[encoded data removed]",
      "text/plain": [
       "<Figure size 432x288 with 1 Axes>"
      ]
     },
     "metadata": {
      "needs_background": "light"
     },
     "output_type": "display_data"
    }
   ],
   "source": [
    "#Calculate the percentage of individuals that defaulted and those that did not\n",
    "percent_default =(df[\"Sum of Default\"]/df[\"Total Count of Default & Not Default\"]*100).tolist()\n",
    "percent_not_default = (df[\"Sum of Not Default\"]/df[\"Total Count of Default & Not Default\"]*100).tolist()\n",
    "\n",
    "#Plotting \n",
    "ind = np.arange(len(percent_default))\n",
    "width = 0.35\n",
    "fig, ax = plt.subplots()\n",
    "rects1 = ax.bar(ind - width/2, percent_default, width,label= \"Default\")\n",
    "rects2 = ax.bar(ind + width/2, percent_not_default, width, label= \"Paid\")\n",
    "ax.set_xlabel('Home Value')\n",
    "ax.set_ylabel('Percentage %')\n",
    "ax.set_title('Percentage vs Long Beach Home Value')\n",
    "ax.set_xticks(ind)\n",
    "ax.set_xticklabels(('$10k','$50k','$100k','$75k','$100k','$125k','$150k'))\n",
    "ax.legend()\n"
   ]
  },
  {
   "cell_type": "markdown",
   "metadata": {
    "slideshow": {
     "slide_type": "slide"
    }
   },
   "source": [
    "## Riverside "
   ]
  },
  {
   "cell_type": "code",
   "execution_count": 3,
   "metadata": {
    "slideshow": {
     "slide_type": "skip"
    }
   },
   "outputs": [
    {
     "name": "stderr",
     "output_type": "stream",
     "text": [
      "/anaconda3/lib/python3.7/site-packages/ipykernel_launcher.py:7: FutureWarning: convert_objects is deprecated.  To re-infer data dtypes for object columns, use DataFrame.infer_objects()\n",
      "For all other conversions use the data-type specific converters pd.to_datetime, pd.to_timedelta and pd.to_numeric.\n",
      "  import sys\n"
     ]
    }
   ],
   "source": [
    "File1 = \"Clean Default.csv\"\n",
    "Default_info = pd.read_csv(File1)\n",
    "\n",
    "File2 = \"Clean Riverside.csv\"\n",
    "RS_info = pd.read_csv(File2)\n",
    "RS_info = RS_info.drop(columns = [\"Unnamed: 0\",\"Unnamed: 0.1\",\"Zipcode\",\"Type\"],axis = 1)\n",
    "RS_info = RS_info.convert_objects(convert_numeric=True)\n",
    "RS_info['Riverside Zip Codes'] = RS_info['Riverside Zip Codes'].astype(np.float64)\n",
    "RS_info = RS_info.sort_values(\"Home Value\",ascending = True)"
   ]
  },
  {
   "cell_type": "code",
   "execution_count": 4,
   "metadata": {
    "slideshow": {
     "slide_type": "slide"
    }
   },
   "outputs": [
    {
     "data": {
      "text/html": [
       "<div>\n",
       "<style scoped>\n",
       "    .dataframe tbody tr th:only-of-type {\n",
       "        vertical-align: middle;\n",
       "    }\n",
       "\n",
       "    .dataframe tbody tr th {\n",
       "        vertical-align: top;\n",
       "    }\n",
       "\n",
       "    .dataframe thead th {\n",
       "        text-align: right;\n",
       "    }\n",
       "</style>\n",
       "<table border=\"1\" class=\"dataframe\">\n",
       "  <thead>\n",
       "    <tr style=\"text-align: right;\">\n",
       "      <th></th>\n",
       "      <th>Riverside Zip Codes</th>\n",
       "      <th>Home Value</th>\n",
       "    </tr>\n",
       "  </thead>\n",
       "  <tbody>\n",
       "    <tr>\n",
       "      <th>0</th>\n",
       "      <td>92501.0</td>\n",
       "      <td>347600</td>\n",
       "    </tr>\n",
       "    <tr>\n",
       "      <th>2</th>\n",
       "      <td>92504.0</td>\n",
       "      <td>376100</td>\n",
       "    </tr>\n",
       "    <tr>\n",
       "      <th>5</th>\n",
       "      <td>92507.0</td>\n",
       "      <td>376200</td>\n",
       "    </tr>\n",
       "    <tr>\n",
       "      <th>1</th>\n",
       "      <td>92503.0</td>\n",
       "      <td>397300</td>\n",
       "    </tr>\n",
       "    <tr>\n",
       "      <th>3</th>\n",
       "      <td>92505.0</td>\n",
       "      <td>402900</td>\n",
       "    </tr>\n",
       "    <tr>\n",
       "      <th>4</th>\n",
       "      <td>92506.0</td>\n",
       "      <td>454600</td>\n",
       "    </tr>\n",
       "    <tr>\n",
       "      <th>6</th>\n",
       "      <td>92508.0</td>\n",
       "      <td>495800</td>\n",
       "    </tr>\n",
       "  </tbody>\n",
       "</table>\n",
       "</div>"
      ],
      "text/plain": [
       "   Riverside Zip Codes  Home Value\n",
       "0              92501.0      347600\n",
       "2              92504.0      376100\n",
       "5              92507.0      376200\n",
       "1              92503.0      397300\n",
       "3              92505.0      402900\n",
       "4              92506.0      454600\n",
       "6              92508.0      495800"
      ]
     },
     "execution_count": 4,
     "metadata": {},
     "output_type": "execute_result"
    }
   ],
   "source": [
    "RS_info"
   ]
  },
  {
   "cell_type": "code",
   "execution_count": 5,
   "metadata": {
    "slideshow": {
     "slide_type": "skip"
    }
   },
   "outputs": [],
   "source": [
    "#Convert the column Home Value from the LB Dataframe to list\n",
    "Home_Value = [20000,60000,200000,800000]\n",
    "\n",
    "#Create empty list to store values\n",
    "Total_list= [];\n",
    "Default_list = [];\n",
    "Not_Default_list = [];\n",
    "\n",
    "#Run a for loop to see all Default table that are less than the current House value i  \n",
    "for i in Home_Value:\n",
    "    Tabless = Default_info[Default_info[\"Home Value\"] < i]\n",
    "    #The following are conditions and can be changed for each city\n",
    "    Tabless = Tabless[Tabless[\"Years at Job\"] <= 4]\n",
    "    Tabless = Tabless[Tabless[\"Mortgage Due\"] <= 50000]\n",
    "    Tabless = Tabless[Tabless[\"Loan Total\"] <= 15000]\n",
    "    Total = Tabless['BAD'].count()\n",
    "    Default = (Tabless['BAD'] == 1).sum()\n",
    "    Not_Default = (Tabless['BAD'] == 0).sum()\n",
    "    Total_list.append(Total)\n",
    "    Default_list.append(Default)\n",
    "    Not_Default_list.append(Not_Default)\n",
    "     \n",
    "\n",
    "#Making a DataFrame from the list we were able to obtain \n",
    "Numbers = pd.Series(Home_Value)\n",
    "df = pd.DataFrame({\"Total Count of Default & Not Default\": Total_list, \"Sum of Default\": Default_list,\"Sum of Not Default\":Not_Default_list})\n",
    "df = df.set_index(Numbers)\n",
    "df = df.drop_duplicates('Sum of Default')\n"
   ]
  },
  {
   "cell_type": "code",
   "execution_count": 6,
   "metadata": {
    "slideshow": {
     "slide_type": "slide"
    }
   },
   "outputs": [
    {
     "data": {
      "text/plain": [
       "<matplotlib.legend.Legend at 0x11685d400>"
      ]
     },
     "execution_count": 6,
     "metadata": {},
     "output_type": "execute_result"
    },
    {
     "data": {
      "image/png": "[encoded data removed]",
      "text/plain": [
       "<Figure size 432x288 with 1 Axes>"
      ]
     },
     "metadata": {
      "needs_background": "light"
     },
     "output_type": "display_data"
    }
   ],
   "source": [
    "#Calculate the percentages of Default and Not Default\n",
    "percent_default =(df[\"Sum of Default\"]/df[\"Total Count of Default & Not Default\"]*100).tolist()\n",
    "percent_not_default = (df[\"Sum of Not Default\"]/df[\"Total Count of Default & Not Default\"]*100).tolist()\n",
    "\n",
    "ind = np.arange(len(percent_default))\n",
    "width = 0.35\n",
    "fig, ax = plt.subplots()\n",
    "rects1 = ax.bar(ind - width/2, percent_default, width,label= \"Default\")\n",
    "rects2 = ax.bar(ind + width/2, percent_not_default, width, label= \"Paid\")\n",
    "\n",
    "ax.set_ylabel('Percentage')\n",
    "ax.set_title('Percentage vs Riverside Home Value')\n",
    "ax.set_xticks(ind)\n",
    "ax.set_xticklabels(('$20k','$60k','$200k','$800k'))\n",
    "ax.legend()\n"
   ]
  },
  {
   "cell_type": "markdown",
   "metadata": {},
   "source": [
    "# Summary\n",
    "NV Data - The chance of going into default vary within each city. In our dataset, the information given allowed us to calculate the percentage and likely hood going in to default. In doing so we also took into consideration different variable that made a person default, e.g. Loan amount, mortgage due, family size, education, etc.  \n",
    "\n",
    "CQ Data - The mean income per zipcode within the same City region identifies whether or not your neighborhood is affluent, and six-figure income zip codes tend to be the more affluent neighborhoods. Within the same City, which has a shared local government, administration, and resources, your zip code provides an estimate of your yearly income.\n",
    "\n",
    "CD DATA - COME UP WITH SOMETHING BRIEF & RELEVANT AND I'LL TWEAK IT"
   ]
  },
  {
   "cell_type": "code",
   "execution_count": null,
   "metadata": {},
   "outputs": [],
   "source": []
  }
 ],
 "metadata": {
  "celltoolbar": "Slideshow",
  "kernelspec": {
   "display_name": "Python 3",
   "language": "python",
   "name": "python3"
  },
  "language_info": {
   "codemirror_mode": {
    "name": "ipython",
    "version": 3
   },
   "file_extension": ".py",
   "mimetype": "text/x-python",
   "name": "python",
   "nbconvert_exporter": "python",
   "pygments_lexer": "ipython3",
   "version": "3.7.3"
  }
 },
 "nbformat": 4,
 "nbformat_minor": 2
}
