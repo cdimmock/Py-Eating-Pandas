{
 "cells": [
  {
   "cell_type": "code",
   "execution_count": 2,
   "metadata": {},
   "outputs": [],
   "source": [
    "# going to import Long Beach year 2017 csv with zip code & avg income to plot \n",
    "# Import dependencies\n",
    "import pandas as pd\n",
    "import matplotlib.pyplot as plt\n",
    "import numpy as np"
   ]
  },
  {
   "cell_type": "code",
   "execution_count": 3,
   "metadata": {},
   "outputs": [
    {
     "data": {
      "text/html": [
       "<div>\n",
       "<style scoped>\n",
       "    .dataframe tbody tr th:only-of-type {\n",
       "        vertical-align: middle;\n",
       "    }\n",
       "\n",
       "    .dataframe tbody tr th {\n",
       "        vertical-align: top;\n",
       "    }\n",
       "\n",
       "    .dataframe thead th {\n",
       "        text-align: right;\n",
       "    }\n",
       "</style>\n",
       "<table border=\"1\" class=\"dataframe\">\n",
       "  <thead>\n",
       "    <tr style=\"text-align: right;\">\n",
       "      <th></th>\n",
       "      <th>Unnamed: 0</th>\n",
       "      <th>ID</th>\n",
       "      <th>Year</th>\n",
       "      <th>Zip Code</th>\n",
       "      <th>City</th>\n",
       "      <th>Returns</th>\n",
       "      <th>CA AGI</th>\n",
       "      <th>Avg Income</th>\n",
       "    </tr>\n",
       "  </thead>\n",
       "  <tbody>\n",
       "    <tr>\n",
       "      <th>0</th>\n",
       "      <td>0</td>\n",
       "      <td>177</td>\n",
       "      <td>2017</td>\n",
       "      <td>93276</td>\n",
       "      <td>Tupman</td>\n",
       "      <td>54</td>\n",
       "      <td>1,853,226</td>\n",
       "      <td>34319.00</td>\n",
       "    </tr>\n",
       "    <tr>\n",
       "      <th>1</th>\n",
       "      <td>1768</td>\n",
       "      <td>137</td>\n",
       "      <td>2017</td>\n",
       "      <td>91407</td>\n",
       "      <td>Van Nuys</td>\n",
       "      <td>34</td>\n",
       "      <td>1,290,491</td>\n",
       "      <td>37955.62</td>\n",
       "    </tr>\n",
       "    <tr>\n",
       "      <th>2</th>\n",
       "      <td>1770</td>\n",
       "      <td>1315</td>\n",
       "      <td>2017</td>\n",
       "      <td>90045</td>\n",
       "      <td>Los Angeles</td>\n",
       "      <td>18,766</td>\n",
       "      <td>2,074,763,206</td>\n",
       "      <td>110559.69</td>\n",
       "    </tr>\n",
       "    <tr>\n",
       "      <th>3</th>\n",
       "      <td>1771</td>\n",
       "      <td>342</td>\n",
       "      <td>2017</td>\n",
       "      <td>91403</td>\n",
       "      <td>Sherman Oaks</td>\n",
       "      <td>14,265</td>\n",
       "      <td>1,989,124,375</td>\n",
       "      <td>139440.90</td>\n",
       "    </tr>\n",
       "    <tr>\n",
       "      <th>4</th>\n",
       "      <td>1772</td>\n",
       "      <td>1496</td>\n",
       "      <td>2017</td>\n",
       "      <td>95646</td>\n",
       "      <td>Kirkwood</td>\n",
       "      <td>52</td>\n",
       "      <td>2,911,176</td>\n",
       "      <td>55984.15</td>\n",
       "    </tr>\n",
       "  </tbody>\n",
       "</table>\n",
       "</div>"
      ],
      "text/plain": [
       "   Unnamed: 0    ID  Year Zip Code          City Returns         CA AGI  \\\n",
       "0           0   177  2017    93276        Tupman      54      1,853,226   \n",
       "1        1768   137  2017    91407      Van Nuys      34      1,290,491   \n",
       "2        1770  1315  2017    90045   Los Angeles  18,766  2,074,763,206   \n",
       "3        1771   342  2017    91403  Sherman Oaks  14,265  1,989,124,375   \n",
       "4        1772  1496  2017    95646      Kirkwood      52      2,911,176   \n",
       "\n",
       "   Avg Income  \n",
       "0    34319.00  \n",
       "1    37955.62  \n",
       "2   110559.69  \n",
       "3   139440.90  \n",
       "4    55984.15  "
      ]
     },
     "execution_count": 3,
     "metadata": {},
     "output_type": "execute_result"
    }
   ],
   "source": [
    "# import csv & read\n",
    "file = 'SoCal Zip Code Income 2017.csv'\n",
    "\n",
    "# read csv\n",
    "sd_income_zipcode_2017 = pd.read_csv('SoCal Zip Code Income 2017.csv') \n",
    "sd_income_zipcode_2017.head()"
   ]
  },
  {
   "cell_type": "code",
   "execution_count": 4,
   "metadata": {},
   "outputs": [
    {
     "data": {
      "text/plain": [
       "Index(['Unnamed: 0', 'ID', 'Year', 'Zip Code', 'City', 'Returns', 'CA AGI',\n",
       "       'Avg Income'],\n",
       "      dtype='object')"
      ]
     },
     "execution_count": 4,
     "metadata": {},
     "output_type": "execute_result"
    }
   ],
   "source": [
    "# print column names for reference \n",
    "sd_income_zipcode_2017.columns"
   ]
  },
  {
   "cell_type": "code",
   "execution_count": 5,
   "metadata": {},
   "outputs": [
    {
     "data": {
      "text/plain": [
       "Unnamed: 0      int64\n",
       "ID              int64\n",
       "Year            int64\n",
       "Zip Code       object\n",
       "City           object\n",
       "Returns        object\n",
       "CA AGI         object\n",
       "Avg Income    float64\n",
       "dtype: object"
      ]
     },
     "execution_count": 5,
     "metadata": {},
     "output_type": "execute_result"
    }
   ],
   "source": [
    "# show the different column object types\n",
    "sd_income_zipcode_2017.dtypes"
   ]
  },
  {
   "cell_type": "code",
   "execution_count": 11,
   "metadata": {},
   "outputs": [
    {
     "data": {
      "text/html": [
       "<div>\n",
       "<style scoped>\n",
       "    .dataframe tbody tr th:only-of-type {\n",
       "        vertical-align: middle;\n",
       "    }\n",
       "\n",
       "    .dataframe tbody tr th {\n",
       "        vertical-align: top;\n",
       "    }\n",
       "\n",
       "    .dataframe thead th {\n",
       "        text-align: right;\n",
       "    }\n",
       "</style>\n",
       "<table border=\"1\" class=\"dataframe\">\n",
       "  <thead>\n",
       "    <tr style=\"text-align: right;\">\n",
       "      <th></th>\n",
       "      <th>Unnamed: 0</th>\n",
       "      <th>ID</th>\n",
       "      <th>Year</th>\n",
       "      <th>Zip Code</th>\n",
       "      <th>City</th>\n",
       "      <th>Returns</th>\n",
       "      <th>CA AGI</th>\n",
       "      <th>Avg Income</th>\n",
       "    </tr>\n",
       "  </thead>\n",
       "  <tbody>\n",
       "    <tr>\n",
       "      <th>27</th>\n",
       "      <td>1753</td>\n",
       "      <td>604</td>\n",
       "      <td>2017</td>\n",
       "      <td>92116</td>\n",
       "      <td>San Diego</td>\n",
       "      <td>18,531</td>\n",
       "      <td>1,285,581,660</td>\n",
       "      <td>69374.65</td>\n",
       "    </tr>\n",
       "    <tr>\n",
       "      <th>268</th>\n",
       "      <td>1871</td>\n",
       "      <td>608</td>\n",
       "      <td>2017</td>\n",
       "      <td>92121</td>\n",
       "      <td>San Diego</td>\n",
       "      <td>2,666</td>\n",
       "      <td>354,980,164</td>\n",
       "      <td>133150.85</td>\n",
       "    </tr>\n",
       "    <tr>\n",
       "      <th>273</th>\n",
       "      <td>1833</td>\n",
       "      <td>597</td>\n",
       "      <td>2017</td>\n",
       "      <td>92109</td>\n",
       "      <td>San Diego</td>\n",
       "      <td>25,525</td>\n",
       "      <td>2,029,368,919</td>\n",
       "      <td>79505.15</td>\n",
       "    </tr>\n",
       "    <tr>\n",
       "      <th>309</th>\n",
       "      <td>1911</td>\n",
       "      <td>593</td>\n",
       "      <td>2017</td>\n",
       "      <td>92105</td>\n",
       "      <td>San Diego</td>\n",
       "      <td>29,334</td>\n",
       "      <td>995,906,200</td>\n",
       "      <td>33950.58</td>\n",
       "    </tr>\n",
       "    <tr>\n",
       "      <th>443</th>\n",
       "      <td>1336</td>\n",
       "      <td>609</td>\n",
       "      <td>2017</td>\n",
       "      <td>92122</td>\n",
       "      <td>San Diego</td>\n",
       "      <td>20,074</td>\n",
       "      <td>1,785,205,615</td>\n",
       "      <td>88931.24</td>\n",
       "    </tr>\n",
       "  </tbody>\n",
       "</table>\n",
       "</div>"
      ],
      "text/plain": [
       "     Unnamed: 0   ID  Year Zip Code       City Returns         CA AGI  \\\n",
       "27         1753  604  2017    92116  San Diego  18,531  1,285,581,660   \n",
       "268        1871  608  2017    92121  San Diego   2,666    354,980,164   \n",
       "273        1833  597  2017    92109  San Diego  25,525  2,029,368,919   \n",
       "309        1911  593  2017    92105  San Diego  29,334    995,906,200   \n",
       "443        1336  609  2017    92122  San Diego  20,074  1,785,205,615   \n",
       "\n",
       "     Avg Income  \n",
       "27     69374.65  \n",
       "268   133150.85  \n",
       "273    79505.15  \n",
       "309    33950.58  \n",
       "443    88931.24  "
      ]
     },
     "execution_count": 11,
     "metadata": {},
     "output_type": "execute_result"
    }
   ],
   "source": [
    "# select San Diego City zip codes \n",
    "sd_subset_zip_inc = sd_income_zipcode_2017[sd_income_zipcode_2017['Zip Code'].isin(['92037', '92101', '92102', '92103', '92104', '92105', '92106', '92107', '92109', '92110', '92111', '92113', '92114', '92115', '92116', '92117', '92119', '92120', '92121', '92122', '92123', '92124', '92126', '92128', '92129', '92130', '92131', '92139', '92173']) ]\n",
    "sd_subset_zip_inc.head()"
   ]
  },
  {
   "cell_type": "code",
   "execution_count": 12,
   "metadata": {},
   "outputs": [
    {
     "name": "stderr",
     "output_type": "stream",
     "text": [
      "C:\\Users\\quiro\\Anaconda3\\lib\\site-packages\\pandas\\core\\frame.py:3940: SettingWithCopyWarning: \n",
      "A value is trying to be set on a copy of a slice from a DataFrame\n",
      "\n",
      "See the caveats in the documentation: http://pandas.pydata.org/pandas-docs/stable/indexing.html#indexing-view-versus-copy\n",
      "  errors=errors)\n"
     ]
    },
    {
     "data": {
      "text/html": [
       "<div>\n",
       "<style scoped>\n",
       "    .dataframe tbody tr th:only-of-type {\n",
       "        vertical-align: middle;\n",
       "    }\n",
       "\n",
       "    .dataframe tbody tr th {\n",
       "        vertical-align: top;\n",
       "    }\n",
       "\n",
       "    .dataframe thead th {\n",
       "        text-align: right;\n",
       "    }\n",
       "</style>\n",
       "<table border=\"1\" class=\"dataframe\">\n",
       "  <thead>\n",
       "    <tr style=\"text-align: right;\">\n",
       "      <th></th>\n",
       "      <th>ID</th>\n",
       "      <th>Year</th>\n",
       "      <th>Zip Code</th>\n",
       "      <th>City</th>\n",
       "      <th>Returns</th>\n",
       "      <th>CA AGI</th>\n",
       "      <th>Avg Income</th>\n",
       "    </tr>\n",
       "  </thead>\n",
       "  <tbody>\n",
       "    <tr>\n",
       "      <th>27</th>\n",
       "      <td>604</td>\n",
       "      <td>2017</td>\n",
       "      <td>92116</td>\n",
       "      <td>San Diego</td>\n",
       "      <td>18,531</td>\n",
       "      <td>1,285,581,660</td>\n",
       "      <td>69374.65</td>\n",
       "    </tr>\n",
       "    <tr>\n",
       "      <th>268</th>\n",
       "      <td>608</td>\n",
       "      <td>2017</td>\n",
       "      <td>92121</td>\n",
       "      <td>San Diego</td>\n",
       "      <td>2,666</td>\n",
       "      <td>354,980,164</td>\n",
       "      <td>133150.85</td>\n",
       "    </tr>\n",
       "    <tr>\n",
       "      <th>273</th>\n",
       "      <td>597</td>\n",
       "      <td>2017</td>\n",
       "      <td>92109</td>\n",
       "      <td>San Diego</td>\n",
       "      <td>25,525</td>\n",
       "      <td>2,029,368,919</td>\n",
       "      <td>79505.15</td>\n",
       "    </tr>\n",
       "    <tr>\n",
       "      <th>309</th>\n",
       "      <td>593</td>\n",
       "      <td>2017</td>\n",
       "      <td>92105</td>\n",
       "      <td>San Diego</td>\n",
       "      <td>29,334</td>\n",
       "      <td>995,906,200</td>\n",
       "      <td>33950.58</td>\n",
       "    </tr>\n",
       "    <tr>\n",
       "      <th>443</th>\n",
       "      <td>609</td>\n",
       "      <td>2017</td>\n",
       "      <td>92122</td>\n",
       "      <td>San Diego</td>\n",
       "      <td>20,074</td>\n",
       "      <td>1,785,205,615</td>\n",
       "      <td>88931.24</td>\n",
       "    </tr>\n",
       "  </tbody>\n",
       "</table>\n",
       "</div>"
      ],
      "text/plain": [
       "      ID  Year Zip Code       City Returns         CA AGI  Avg Income\n",
       "27   604  2017    92116  San Diego  18,531  1,285,581,660    69374.65\n",
       "268  608  2017    92121  San Diego   2,666    354,980,164   133150.85\n",
       "273  597  2017    92109  San Diego  25,525  2,029,368,919    79505.15\n",
       "309  593  2017    92105  San Diego  29,334    995,906,200    33950.58\n",
       "443  609  2017    92122  San Diego  20,074  1,785,205,615    88931.24"
      ]
     },
     "execution_count": 12,
     "metadata": {},
     "output_type": "execute_result"
    }
   ],
   "source": [
    "sd_subset_zip_inc.drop = sd_subset_zip_inc.drop('Unnamed: 0', axis = 1, inplace=True)\n",
    "sd_subset_zip_inc.head()"
   ]
  },
  {
   "cell_type": "code",
   "execution_count": 13,
   "metadata": {},
   "outputs": [
    {
     "name": "stdout",
     "output_type": "stream",
     "text": [
      "        ID  Year Zip Code        City Returns         CA AGI  Avg Income\n",
      "27     604  2017    92116   San Diego  18,531  1,285,581,660    69374.65\n",
      "268    608  2017    92121   San Diego   2,666    354,980,164   133150.85\n",
      "273    597  2017    92109   San Diego  25,525  2,029,368,919    79505.15\n",
      "309    593  2017    92105   San Diego  29,334    995,906,200    33950.58\n",
      "443    609  2017    92122   San Diego  20,074  1,785,205,615    88931.24\n",
      "487    590  2017    92102   San Diego  19,649    824,774,888    41975.41\n",
      "514    589  2017    92101   San Diego  20,089  1,995,203,263    99318.20\n",
      "592    614  2017    92128   San Diego  23,892  2,288,928,095    95803.12\n",
      "597    601  2017    92113   San Diego  21,172    657,336,736    31047.46\n",
      "1354   603  2017    92115   San Diego  25,428  1,278,395,711    50275.12\n",
      "1449   624  2017    92139   San Diego  16,723    766,372,045    45827.43\n",
      "1457   592  2017    92104   San Diego  24,928  1,489,520,436    59752.91\n",
      "1484   599  2017    92111   San Diego  22,105  1,245,821,629    56359.27\n",
      "1589   607  2017    92120   San Diego  14,210  1,211,697,607    85270.77\n",
      "1639   615  2017    92129   San Diego  23,990  2,458,801,639   102492.77\n",
      "1648   598  2017    92110   San Diego  12,968    935,177,077    72114.21\n",
      "1883   445  2017    92173  San Ysidro  22,414    700,249,921    31241.63\n",
      "1888   602  2017    92114   San Diego  31,092  1,309,601,673    42120.21\n",
      "1907   612  2017    92126   San Diego  37,093  2,432,852,168    65587.91\n",
      "1960   606  2017    92119   San Diego  11,767    899,312,415    76426.65\n",
      "2041   595  2017    92107   San Diego  15,069  1,249,676,293    82930.27\n",
      "2059   610  2017    92123   San Diego  14,105  1,003,104,183    71116.92\n",
      "2067  1475  2017    92037    La Jolla  18,936  4,615,520,518   243743.16\n",
      "2108   605  2017    92117   San Diego  26,779  1,806,059,256    67443.12\n",
      "2156   617  2017    92131   San Diego  16,238  2,300,232,077   141657.35\n",
      "2202   594  2017    92106   San Diego   9,123  1,133,091,931   124201.68\n",
      "2247   611  2017    92124   San Diego  11,601    952,504,415    82105.37\n",
      "2269   616  2017    92130   San Diego  24,598  4,845,636,762   196993.12\n",
      "2283   591  2017    92103   San Diego  19,298  1,860,442,236    96405.96\n"
     ]
    }
   ],
   "source": [
    "print(sd_subset_zip_inc)"
   ]
  },
  {
   "cell_type": "code",
   "execution_count": 14,
   "metadata": {},
   "outputs": [],
   "source": [
    "# export 2017 mean income for San Diego zip codes to csv files\n",
    "sd_subset_zip_inc.to_csv(\"San Diego Zip Codes Income 2017.csv\")"
   ]
  },
  {
   "cell_type": "code",
   "execution_count": 16,
   "metadata": {},
   "outputs": [],
   "source": [
    "# Set x axis and tick locations\n",
    "x_axis = np.arange(len(sd_subset_zip_inc))\n",
    "tick_locations = [value for value in x_axis]"
   ]
  },
  {
   "cell_type": "code",
   "execution_count": 17,
   "metadata": {},
   "outputs": [
    {
     "data": {
      "image/png": "[encoded data removed]",
      "text/plain": [
       "<Figure size 576x360 with 1 Axes>"
      ]
     },
     "metadata": {
      "needs_background": "light"
     },
     "output_type": "display_data"
    }
   ],
   "source": [
    "# Create a list indicating where to write x labels and set figure size to adjust for space\n",
    "plt.figure(figsize=(8,5))\n",
    "plt.bar(x_axis, sd_subset_zip_inc[\"Avg Income\"], color='g', alpha=1.0, align=\"center\")\n",
    "plt.xticks(tick_locations, sd_subset_zip_inc[\"Zip Code\"], rotation=\"vertical\")\n",
    "\n",
    "# Set a Title and labels\n",
    "plt.title(\"San Diego Average Income per Zip Code\")\n",
    "plt.xlabel(\"Zip Code\")\n",
    "plt.ylabel(\"Average Income\")\n",
    "\n",
    "# Save our graph and show the grap\n",
    "plt.tight_layout()\n",
    "plt.savefig(\"San_Diego_Beach_avg_zip_inc.png\")\n",
    "plt.show()"
   ]
  },
  {
   "cell_type": "code",
   "execution_count": null,
   "metadata": {},
   "outputs": [],
   "source": []
  }
 ],
 "metadata": {
  "kernelspec": {
   "display_name": "Python 3",
   "language": "python",
   "name": "python3"
  },
  "language_info": {
   "codemirror_mode": {
    "name": "ipython",
    "version": 3
   },
   "file_extension": ".py",
   "mimetype": "text/x-python",
   "name": "python",
   "nbconvert_exporter": "python",
   "pygments_lexer": "ipython3",
   "version": "3.7.3"
  }
 },
 "nbformat": 4,
 "nbformat_minor": 2
}
